{
 "cells": [
  {
   "cell_type": "code",
   "execution_count": 56,
   "metadata": {},
   "outputs": [],
   "source": [
    "import numpy as np\n",
    "import pandas as pd\n",
    "import matplotlib.pyplot as plt\n",
    "import pandas_datareader as pdr\n",
    "import math\n",
    "\n",
    "from sklearn.preprocessing import MinMaxScaler\n",
    "from sklearn.metrics import mean_squared_error\n",
    "\n",
    "from keras.models import Sequential\n",
    "from keras.layers import LSTM, Dense"
   ]
  },
  {
   "cell_type": "markdown",
   "metadata": {},
   "source": [
    "### Data Reading"
   ]
  },
  {
   "cell_type": "code",
   "execution_count": 57,
   "metadata": {},
   "outputs": [],
   "source": [
    "data = pdr.get_data_tiingo('AAPL', api_key='b159810f6a94239952a09970a20f1877abfe0b21')"
   ]
  },
  {
   "cell_type": "code",
   "execution_count": 58,
   "metadata": {},
   "outputs": [],
   "source": [
    "data.to_csv('/home/hasan/DATA SET/AAPL.csv')"
   ]
  },
  {
   "cell_type": "markdown",
   "metadata": {},
   "source": [
    "### Data Loading"
   ]
  },
  {
   "cell_type": "code",
   "execution_count": 59,
   "metadata": {},
   "outputs": [],
   "source": [
    "data = pd.read_csv('/home/hasan/DATA SET/AAPL.csv')"
   ]
  },
  {
   "cell_type": "code",
   "execution_count": 60,
   "metadata": {},
   "outputs": [
    {
     "data": {
      "text/html": [
       "<div>\n",
       "<style scoped>\n",
       "    .dataframe tbody tr th:only-of-type {\n",
       "        vertical-align: middle;\n",
       "    }\n",
       "\n",
       "    .dataframe tbody tr th {\n",
       "        vertical-align: top;\n",
       "    }\n",
       "\n",
       "    .dataframe thead th {\n",
       "        text-align: right;\n",
       "    }\n",
       "</style>\n",
       "<table border=\"1\" class=\"dataframe\">\n",
       "  <thead>\n",
       "    <tr style=\"text-align: right;\">\n",
       "      <th></th>\n",
       "      <th>symbol</th>\n",
       "      <th>date</th>\n",
       "      <th>close</th>\n",
       "      <th>high</th>\n",
       "      <th>low</th>\n",
       "      <th>open</th>\n",
       "      <th>volume</th>\n",
       "      <th>adjClose</th>\n",
       "      <th>adjHigh</th>\n",
       "      <th>adjLow</th>\n",
       "      <th>adjOpen</th>\n",
       "      <th>adjVolume</th>\n",
       "      <th>divCash</th>\n",
       "      <th>splitFactor</th>\n",
       "    </tr>\n",
       "  </thead>\n",
       "  <tbody>\n",
       "    <tr>\n",
       "      <th>0</th>\n",
       "      <td>AAPL</td>\n",
       "      <td>2015-06-01 00:00:00+00:00</td>\n",
       "      <td>130.535</td>\n",
       "      <td>131.390</td>\n",
       "      <td>130.05</td>\n",
       "      <td>131.20</td>\n",
       "      <td>32112797</td>\n",
       "      <td>120.291057</td>\n",
       "      <td>121.078960</td>\n",
       "      <td>119.844118</td>\n",
       "      <td>120.903870</td>\n",
       "      <td>32112797</td>\n",
       "      <td>0.0</td>\n",
       "      <td>1.0</td>\n",
       "    </tr>\n",
       "    <tr>\n",
       "      <th>1</th>\n",
       "      <td>AAPL</td>\n",
       "      <td>2015-06-02 00:00:00+00:00</td>\n",
       "      <td>129.960</td>\n",
       "      <td>130.655</td>\n",
       "      <td>129.32</td>\n",
       "      <td>129.86</td>\n",
       "      <td>33667627</td>\n",
       "      <td>119.761181</td>\n",
       "      <td>120.401640</td>\n",
       "      <td>119.171406</td>\n",
       "      <td>119.669029</td>\n",
       "      <td>33667627</td>\n",
       "      <td>0.0</td>\n",
       "      <td>1.0</td>\n",
       "    </tr>\n",
       "    <tr>\n",
       "      <th>2</th>\n",
       "      <td>AAPL</td>\n",
       "      <td>2015-06-03 00:00:00+00:00</td>\n",
       "      <td>130.120</td>\n",
       "      <td>130.940</td>\n",
       "      <td>129.90</td>\n",
       "      <td>130.66</td>\n",
       "      <td>30983542</td>\n",
       "      <td>119.908625</td>\n",
       "      <td>120.664274</td>\n",
       "      <td>119.705890</td>\n",
       "      <td>120.406248</td>\n",
       "      <td>30983542</td>\n",
       "      <td>0.0</td>\n",
       "      <td>1.0</td>\n",
       "    </tr>\n",
       "    <tr>\n",
       "      <th>3</th>\n",
       "      <td>AAPL</td>\n",
       "      <td>2015-06-04 00:00:00+00:00</td>\n",
       "      <td>129.360</td>\n",
       "      <td>130.580</td>\n",
       "      <td>128.91</td>\n",
       "      <td>129.58</td>\n",
       "      <td>38450118</td>\n",
       "      <td>119.208267</td>\n",
       "      <td>120.332526</td>\n",
       "      <td>118.793582</td>\n",
       "      <td>119.411002</td>\n",
       "      <td>38450118</td>\n",
       "      <td>0.0</td>\n",
       "      <td>1.0</td>\n",
       "    </tr>\n",
       "    <tr>\n",
       "      <th>4</th>\n",
       "      <td>AAPL</td>\n",
       "      <td>2015-06-05 00:00:00+00:00</td>\n",
       "      <td>128.650</td>\n",
       "      <td>129.690</td>\n",
       "      <td>128.36</td>\n",
       "      <td>129.50</td>\n",
       "      <td>35626800</td>\n",
       "      <td>118.553986</td>\n",
       "      <td>119.512370</td>\n",
       "      <td>118.286744</td>\n",
       "      <td>119.337280</td>\n",
       "      <td>35626800</td>\n",
       "      <td>0.0</td>\n",
       "      <td>1.0</td>\n",
       "    </tr>\n",
       "  </tbody>\n",
       "</table>\n",
       "</div>"
      ],
      "text/plain": [
       "  symbol                       date    close     high     low    open  \\\n",
       "0   AAPL  2015-06-01 00:00:00+00:00  130.535  131.390  130.05  131.20   \n",
       "1   AAPL  2015-06-02 00:00:00+00:00  129.960  130.655  129.32  129.86   \n",
       "2   AAPL  2015-06-03 00:00:00+00:00  130.120  130.940  129.90  130.66   \n",
       "3   AAPL  2015-06-04 00:00:00+00:00  129.360  130.580  128.91  129.58   \n",
       "4   AAPL  2015-06-05 00:00:00+00:00  128.650  129.690  128.36  129.50   \n",
       "\n",
       "     volume    adjClose     adjHigh      adjLow     adjOpen  adjVolume  \\\n",
       "0  32112797  120.291057  121.078960  119.844118  120.903870   32112797   \n",
       "1  33667627  119.761181  120.401640  119.171406  119.669029   33667627   \n",
       "2  30983542  119.908625  120.664274  119.705890  120.406248   30983542   \n",
       "3  38450118  119.208267  120.332526  118.793582  119.411002   38450118   \n",
       "4  35626800  118.553986  119.512370  118.286744  119.337280   35626800   \n",
       "\n",
       "   divCash  splitFactor  \n",
       "0      0.0          1.0  \n",
       "1      0.0          1.0  \n",
       "2      0.0          1.0  \n",
       "3      0.0          1.0  \n",
       "4      0.0          1.0  "
      ]
     },
     "execution_count": 60,
     "metadata": {},
     "output_type": "execute_result"
    }
   ],
   "source": [
    "data.head()"
   ]
  },
  {
   "cell_type": "code",
   "execution_count": 61,
   "metadata": {},
   "outputs": [
    {
     "data": {
      "text/plain": [
       "(1257, 14)"
      ]
     },
     "execution_count": 61,
     "metadata": {},
     "output_type": "execute_result"
    }
   ],
   "source": [
    "data.shape"
   ]
  },
  {
   "cell_type": "markdown",
   "metadata": {},
   "source": [
    "### Close column"
   ]
  },
  {
   "cell_type": "code",
   "execution_count": 62,
   "metadata": {},
   "outputs": [],
   "source": [
    "data = data['close']"
   ]
  },
  {
   "cell_type": "code",
   "execution_count": 63,
   "metadata": {},
   "outputs": [
    {
     "data": {
      "text/plain": [
       "0    130.535\n",
       "1    129.960\n",
       "2    130.120\n",
       "3    129.360\n",
       "4    128.650\n",
       "Name: close, dtype: float64"
      ]
     },
     "execution_count": 63,
     "metadata": {},
     "output_type": "execute_result"
    }
   ],
   "source": [
    "data.head()"
   ]
  },
  {
   "cell_type": "code",
   "execution_count": 64,
   "metadata": {},
   "outputs": [
    {
     "data": {
      "text/plain": [
       "(1257,)"
      ]
     },
     "execution_count": 64,
     "metadata": {},
     "output_type": "execute_result"
    }
   ],
   "source": [
    "data.shape"
   ]
  },
  {
   "cell_type": "code",
   "execution_count": 65,
   "metadata": {},
   "outputs": [
    {
     "data": {
      "text/plain": [
       "Text(0.5, 1.0, 'original data')"
      ]
     },
     "execution_count": 65,
     "metadata": {},
     "output_type": "execute_result"
    },
    {
     "data": {
      "image/png": "[encoded data removed]",
      "text/plain": [
       "<Figure size 936x432 with 1 Axes>"
      ]
     },
     "metadata": {
      "needs_background": "light"
     },
     "output_type": "display_data"
    }
   ],
   "source": [
    "plt.figure(figsize=(13,6))\n",
    "plt.plot(data)\n",
    "plt.title('original data')"
   ]
  },
  {
   "cell_type": "markdown",
   "metadata": {},
   "source": [
    "### Data Preprocessing"
   ]
  },
  {
   "cell_type": "code",
   "execution_count": 66,
   "metadata": {},
   "outputs": [],
   "source": [
    "#reshaping data\n",
    "data = np.array(data).reshape(-1,1)"
   ]
  },
  {
   "cell_type": "code",
   "execution_count": 67,
   "metadata": {},
   "outputs": [],
   "source": [
    "scaler = MinMaxScaler(feature_range=(0,1))\n",
    "data = scaler.fit_transform(data)"
   ]
  },
  {
   "cell_type": "markdown",
   "metadata": {},
   "source": [
    "### dividing dataset into train, test"
   ]
  },
  {
   "cell_type": "code",
   "execution_count": 68,
   "metadata": {},
   "outputs": [],
   "source": [
    "train_size = int(len(data)*.70)\n",
    "test_size = len(data)-train_size\n",
    "\n",
    "train = data[:train_size,:]\n",
    "test = data[train_size:, :]"
   ]
  },
  {
   "cell_type": "code",
   "execution_count": 69,
   "metadata": {},
   "outputs": [
    {
     "name": "stdout",
     "output_type": "stream",
     "text": [
      "Shape of train : (879, 1)\n",
      "Shape of test : (378, 1)\n"
     ]
    }
   ],
   "source": [
    "print('Shape of train :',train.shape)\n",
    "print('Shape of test :',test.shape)"
   ]
  },
  {
   "cell_type": "markdown",
   "metadata": {},
   "source": [
    "### Feature and Label Data"
   ]
  },
  {
   "cell_type": "code",
   "execution_count": 70,
   "metadata": {},
   "outputs": [],
   "source": [
    "def feature_label_data(data, time_step=1):\n",
    "    feature = []\n",
    "    label = []\n",
    "    for i in range(len(data)-time_step-1):\n",
    "        f = data[i:(i+time_step), 0]\n",
    "        l = data[i+time_step,0]\n",
    "        feature.append(f)\n",
    "        label.append(l)\n",
    "        \n",
    "    return np.array(feature), np.array(label)\n",
    "\n"
   ]
  },
  {
   "cell_type": "code",
   "execution_count": 71,
   "metadata": {},
   "outputs": [
    {
     "name": "stdout",
     "output_type": "stream",
     "text": [
      "Shape of trainX is : (778, 100)\n",
      "Shape of trainY is : (778,)\n",
      "Shape of testX is : (277, 100)\n",
      "Shape of testY is : (277,)\n"
     ]
    }
   ],
   "source": [
    "time_step=100\n",
    "trainX,trainY = feature_label_data(train, time_step)\n",
    "testX,testY = feature_label_data(test, time_step)\n",
    "print('Shape of trainX is :',trainX.shape)\n",
    "print('Shape of trainY is :',trainY.shape)\n",
    "print('Shape of testX is :',testX.shape)\n",
    "print('Shape of testY is :',testY.shape)"
   ]
  },
  {
   "cell_type": "markdown",
   "metadata": {},
   "source": [
    "### Reshaping Data"
   ]
  },
  {
   "cell_type": "code",
   "execution_count": 72,
   "metadata": {},
   "outputs": [],
   "source": [
    "trainX = trainX.reshape(trainX.shape[0], trainX.shape[1], 1)\n",
    "testX = testX.reshape(testX.shape[0], testX.shape[1], 1)"
   ]
  },
  {
   "cell_type": "markdown",
   "metadata": {},
   "source": [
    "### Model"
   ]
  },
  {
   "cell_type": "code",
   "execution_count": 73,
   "metadata": {},
   "outputs": [],
   "source": [
    "model = Sequential()\n",
    "model.add(LSTM(50, return_sequences=True, input_shape=(time_step, 1)))\n",
    "model.add(LSTM(50, return_sequences=True))\n",
    "model.add(LSTM(40))\n",
    "model.add(Dense(1))"
   ]
  },
  {
   "cell_type": "code",
   "execution_count": 74,
   "metadata": {},
   "outputs": [
    {
     "name": "stdout",
     "output_type": "stream",
     "text": [
      "Model: \"sequential_2\"\n",
      "_________________________________________________________________\n",
      "Layer (type)                 Output Shape              Param #   \n",
      "=================================================================\n",
      "lstm_4 (LSTM)                (None, 100, 50)           10400     \n",
      "_________________________________________________________________\n",
      "lstm_5 (LSTM)                (None, 100, 50)           20200     \n",
      "_________________________________________________________________\n",
      "lstm_6 (LSTM)                (None, 40)                14560     \n",
      "_________________________________________________________________\n",
      "dense_2 (Dense)              (None, 1)                 41        \n",
      "=================================================================\n",
      "Total params: 45,201\n",
      "Trainable params: 45,201\n",
      "Non-trainable params: 0\n",
      "_________________________________________________________________\n"
     ]
    }
   ],
   "source": [
    "model.summary()"
   ]
  },
  {
   "cell_type": "code",
   "execution_count": 75,
   "metadata": {},
   "outputs": [],
   "source": [
    "model.compile(loss='mean_squared_error',\n",
    "              optimizer='adam')"
   ]
  },
  {
   "cell_type": "code",
   "execution_count": 76,
   "metadata": {},
   "outputs": [
    {
     "name": "stdout",
     "output_type": "stream",
     "text": [
      "Train on 778 samples, validate on 277 samples\n",
      "Epoch 1/200\n",
      "778/778 [==============================] - 4s 5ms/step - loss: 0.0211 - val_loss: 0.0586\n",
      "Epoch 2/200\n",
      "778/778 [==============================] - 2s 3ms/step - loss: 0.0042 - val_loss: 0.0053\n",
      "Epoch 3/200\n",
      "778/778 [==============================] - 2s 3ms/step - loss: 0.0012 - val_loss: 0.0043\n",
      "Epoch 4/200\n",
      "778/778 [==============================] - 2s 3ms/step - loss: 9.1356e-04 - val_loss: 0.0060\n",
      "Epoch 5/200\n",
      "778/778 [==============================] - 2s 3ms/step - loss: 8.3653e-04 - val_loss: 0.0086\n",
      "Epoch 6/200\n",
      "778/778 [==============================] - 2s 3ms/step - loss: 7.4618e-04 - val_loss: 0.0072\n",
      "Epoch 7/200\n",
      "778/778 [==============================] - 2s 3ms/step - loss: 7.0658e-04 - val_loss: 0.0067\n",
      "Epoch 8/200\n",
      "778/778 [==============================] - 3s 4ms/step - loss: 6.8213e-04 - val_loss: 0.0064\n",
      "Epoch 9/200\n",
      "778/778 [==============================] - 3s 4ms/step - loss: 6.7279e-04 - val_loss: 0.0071\n",
      "Epoch 10/200\n",
      "778/778 [==============================] - 2s 3ms/step - loss: 6.6654e-04 - val_loss: 0.0065\n",
      "Epoch 11/200\n",
      "778/778 [==============================] - 2s 3ms/step - loss: 6.5202e-04 - val_loss: 0.0070\n",
      "Epoch 12/200\n",
      "778/778 [==============================] - 3s 4ms/step - loss: 6.6690e-04 - val_loss: 0.0083\n",
      "Epoch 13/200\n",
      "778/778 [==============================] - 3s 4ms/step - loss: 6.4811e-04 - val_loss: 0.0096\n",
      "Epoch 14/200\n",
      "778/778 [==============================] - 3s 4ms/step - loss: 6.5862e-04 - val_loss: 0.0073\n",
      "Epoch 15/200\n",
      "778/778 [==============================] - 3s 4ms/step - loss: 6.2884e-04 - val_loss: 0.0062\n",
      "Epoch 16/200\n",
      "778/778 [==============================] - 3s 3ms/step - loss: 6.1612e-04 - val_loss: 0.0056\n",
      "Epoch 17/200\n",
      "778/778 [==============================] - 3s 4ms/step - loss: 5.9092e-04 - val_loss: 0.0061\n",
      "Epoch 18/200\n",
      "778/778 [==============================] - 3s 4ms/step - loss: 5.7723e-04 - val_loss: 0.0057\n",
      "Epoch 19/200\n",
      "778/778 [==============================] - 3s 4ms/step - loss: 5.8780e-04 - val_loss: 0.0054\n",
      "Epoch 20/200\n",
      "778/778 [==============================] - 3s 4ms/step - loss: 5.6422e-04 - val_loss: 0.0056\n",
      "Epoch 21/200\n",
      "778/778 [==============================] - 3s 4ms/step - loss: 5.3875e-04 - val_loss: 0.0068\n",
      "Epoch 22/200\n",
      "778/778 [==============================] - 3s 4ms/step - loss: 5.3663e-04 - val_loss: 0.0054\n",
      "Epoch 23/200\n",
      "778/778 [==============================] - 3s 4ms/step - loss: 5.2342e-04 - val_loss: 0.0046\n",
      "Epoch 24/200\n",
      "778/778 [==============================] - 3s 4ms/step - loss: 5.7411e-04 - val_loss: 0.0070\n",
      "Epoch 25/200\n",
      "778/778 [==============================] - 3s 4ms/step - loss: 5.3314e-04 - val_loss: 0.0068\n",
      "Epoch 26/200\n",
      "778/778 [==============================] - 2s 3ms/step - loss: 4.9686e-04 - val_loss: 0.0059\n",
      "Epoch 27/200\n",
      "778/778 [==============================] - 3s 3ms/step - loss: 4.8838e-04 - val_loss: 0.0030\n",
      "Epoch 28/200\n",
      "778/778 [==============================] - 3s 4ms/step - loss: 5.2239e-04 - val_loss: 0.0064\n",
      "Epoch 29/200\n",
      "778/778 [==============================] - 3s 3ms/step - loss: 4.6808e-04 - val_loss: 0.0036\n",
      "Epoch 30/200\n",
      "778/778 [==============================] - 3s 3ms/step - loss: 4.6645e-04 - val_loss: 0.0051\n",
      "Epoch 31/200\n",
      "778/778 [==============================] - 3s 3ms/step - loss: 5.1459e-04 - val_loss: 0.0036\n",
      "Epoch 32/200\n",
      "778/778 [==============================] - 3s 3ms/step - loss: 6.2039e-04 - val_loss: 0.0028\n",
      "Epoch 33/200\n",
      "778/778 [==============================] - 3s 3ms/step - loss: 5.0744e-04 - val_loss: 0.0063\n",
      "Epoch 34/200\n",
      "778/778 [==============================] - 3s 3ms/step - loss: 5.5931e-04 - val_loss: 0.0023\n",
      "Epoch 35/200\n",
      "778/778 [==============================] - 3s 3ms/step - loss: 5.4211e-04 - val_loss: 0.0047\n",
      "Epoch 36/200\n",
      "778/778 [==============================] - 3s 3ms/step - loss: 4.4394e-04 - val_loss: 0.0036\n",
      "Epoch 37/200\n",
      "778/778 [==============================] - 3s 3ms/step - loss: 4.4530e-04 - val_loss: 0.0052\n",
      "Epoch 38/200\n",
      "778/778 [==============================] - 3s 4ms/step - loss: 4.3384e-04 - val_loss: 0.0036\n",
      "Epoch 39/200\n",
      "778/778 [==============================] - 3s 3ms/step - loss: 4.0912e-04 - val_loss: 0.0033\n",
      "Epoch 40/200\n",
      "778/778 [==============================] - 3s 3ms/step - loss: 4.1660e-04 - val_loss: 0.0038\n",
      "Epoch 41/200\n",
      "778/778 [==============================] - 3s 3ms/step - loss: 4.3592e-04 - val_loss: 0.0036\n",
      "Epoch 42/200\n",
      "778/778 [==============================] - 3s 3ms/step - loss: 4.2849e-04 - val_loss: 0.0029\n",
      "Epoch 43/200\n",
      "778/778 [==============================] - 3s 3ms/step - loss: 4.0283e-04 - val_loss: 0.0039\n",
      "Epoch 44/200\n",
      "778/778 [==============================] - 3s 3ms/step - loss: 3.9541e-04 - val_loss: 0.0044\n",
      "Epoch 45/200\n",
      "778/778 [==============================] - 3s 3ms/step - loss: 4.6164e-04 - val_loss: 0.0019\n",
      "Epoch 46/200\n",
      "778/778 [==============================] - 3s 4ms/step - loss: 4.1417e-04 - val_loss: 0.0047\n",
      "Epoch 47/200\n",
      "778/778 [==============================] - 3s 4ms/step - loss: 4.1663e-04 - val_loss: 0.0019\n",
      "Epoch 48/200\n",
      "778/778 [==============================] - 3s 4ms/step - loss: 4.1066e-04 - val_loss: 0.0034\n",
      "Epoch 49/200\n",
      "778/778 [==============================] - 3s 4ms/step - loss: 4.0318e-04 - val_loss: 0.0033\n",
      "Epoch 50/200\n",
      "778/778 [==============================] - 3s 3ms/step - loss: 3.7532e-04 - val_loss: 0.0028\n",
      "Epoch 51/200\n",
      "778/778 [==============================] - 3s 3ms/step - loss: 3.7000e-04 - val_loss: 0.0037\n",
      "Epoch 52/200\n",
      "778/778 [==============================] - 3s 4ms/step - loss: 3.5963e-04 - val_loss: 0.0027\n",
      "Epoch 53/200\n",
      "778/778 [==============================] - 3s 3ms/step - loss: 3.6737e-04 - val_loss: 0.0022\n",
      "Epoch 54/200\n",
      "778/778 [==============================] - 3s 4ms/step - loss: 3.5483e-04 - val_loss: 0.0032\n",
      "Epoch 55/200\n",
      "778/778 [==============================] - 3s 3ms/step - loss: 3.4755e-04 - val_loss: 0.0019\n",
      "Epoch 56/200\n",
      "778/778 [==============================] - 3s 3ms/step - loss: 3.4959e-04 - val_loss: 0.0021\n",
      "Epoch 57/200\n",
      "778/778 [==============================] - 3s 3ms/step - loss: 3.4058e-04 - val_loss: 0.0035\n",
      "Epoch 58/200\n",
      "778/778 [==============================] - 3s 4ms/step - loss: 4.2897e-04 - val_loss: 0.0016\n",
      "Epoch 59/200\n",
      "778/778 [==============================] - 3s 4ms/step - loss: 4.9951e-04 - val_loss: 0.0021\n",
      "Epoch 60/200\n",
      "778/778 [==============================] - 3s 4ms/step - loss: 3.5376e-04 - val_loss: 0.0039\n",
      "Epoch 61/200\n",
      "778/778 [==============================] - 2s 3ms/step - loss: 3.8671e-04 - val_loss: 0.0025\n",
      "Epoch 62/200\n",
      "778/778 [==============================] - 3s 3ms/step - loss: 3.2878e-04 - val_loss: 0.0026\n",
      "Epoch 63/200\n",
      "778/778 [==============================] - 3s 3ms/step - loss: 3.3713e-04 - val_loss: 0.0016\n",
      "Epoch 64/200\n",
      "778/778 [==============================] - 3s 3ms/step - loss: 3.4048e-04 - val_loss: 0.0019\n",
      "Epoch 65/200\n",
      "778/778 [==============================] - 3s 4ms/step - loss: 3.2757e-04 - val_loss: 0.0025\n",
      "Epoch 66/200\n",
      "778/778 [==============================] - 3s 4ms/step - loss: 3.2749e-04 - val_loss: 0.0016\n",
      "Epoch 67/200\n",
      "778/778 [==============================] - 3s 3ms/step - loss: 3.2871e-04 - val_loss: 0.0042\n",
      "Epoch 68/200\n",
      "778/778 [==============================] - 3s 3ms/step - loss: 3.3242e-04 - val_loss: 0.0022\n",
      "Epoch 69/200\n",
      "778/778 [==============================] - 3s 3ms/step - loss: 3.1460e-04 - val_loss: 0.0013\n",
      "Epoch 70/200\n",
      "778/778 [==============================] - 3s 3ms/step - loss: 3.2130e-04 - val_loss: 0.0025\n",
      "Epoch 71/200\n",
      "778/778 [==============================] - 3s 3ms/step - loss: 3.2112e-04 - val_loss: 0.0025\n",
      "Epoch 72/200\n",
      "778/778 [==============================] - 3s 3ms/step - loss: 3.1359e-04 - val_loss: 0.0027\n",
      "Epoch 73/200\n",
      "778/778 [==============================] - 3s 3ms/step - loss: 2.9411e-04 - val_loss: 0.0018\n",
      "Epoch 74/200\n",
      "778/778 [==============================] - 3s 4ms/step - loss: 2.8234e-04 - val_loss: 0.0013\n",
      "Epoch 75/200\n",
      "778/778 [==============================] - 3s 4ms/step - loss: 2.8342e-04 - val_loss: 0.0020\n",
      "Epoch 76/200\n",
      "778/778 [==============================] - 3s 4ms/step - loss: 2.7354e-04 - val_loss: 0.0014\n",
      "Epoch 77/200\n",
      "778/778 [==============================] - 3s 3ms/step - loss: 3.4686e-04 - val_loss: 0.0018\n",
      "Epoch 78/200\n",
      "778/778 [==============================] - 3s 3ms/step - loss: 3.0892e-04 - val_loss: 0.0025\n",
      "Epoch 79/200\n",
      "778/778 [==============================] - 3s 3ms/step - loss: 2.9867e-04 - val_loss: 0.0012\n",
      "Epoch 80/200\n",
      "778/778 [==============================] - 3s 4ms/step - loss: 3.9472e-04 - val_loss: 0.0027\n",
      "Epoch 81/200\n",
      "778/778 [==============================] - 3s 3ms/step - loss: 2.7045e-04 - val_loss: 0.0015\n",
      "Epoch 82/200\n",
      "778/778 [==============================] - 3s 3ms/step - loss: 2.6805e-04 - val_loss: 0.0012\n",
      "Epoch 83/200\n",
      "778/778 [==============================] - 3s 4ms/step - loss: 3.4449e-04 - val_loss: 0.0031\n",
      "Epoch 84/200\n",
      "778/778 [==============================] - 3s 3ms/step - loss: 3.0705e-04 - val_loss: 0.0015\n",
      "Epoch 85/200\n",
      "778/778 [==============================] - 3s 4ms/step - loss: 4.8680e-04 - val_loss: 0.0047\n",
      "Epoch 86/200\n",
      "778/778 [==============================] - 3s 3ms/step - loss: 3.0726e-04 - val_loss: 0.0012\n",
      "Epoch 87/200\n",
      "778/778 [==============================] - 3s 3ms/step - loss: 3.0130e-04 - val_loss: 0.0032\n",
      "Epoch 88/200\n",
      "778/778 [==============================] - 3s 4ms/step - loss: 3.0674e-04 - val_loss: 0.0011\n",
      "Epoch 89/200\n",
      "778/778 [==============================] - 3s 3ms/step - loss: 2.5210e-04 - val_loss: 0.0012\n",
      "Epoch 90/200\n",
      "778/778 [==============================] - 3s 3ms/step - loss: 2.5932e-04 - val_loss: 0.0015\n",
      "Epoch 91/200\n",
      "778/778 [==============================] - 3s 4ms/step - loss: 2.3312e-04 - val_loss: 0.0012\n",
      "Epoch 92/200\n",
      "778/778 [==============================] - 3s 4ms/step - loss: 2.4355e-04 - val_loss: 0.0023\n",
      "Epoch 93/200\n",
      "778/778 [==============================] - 3s 3ms/step - loss: 2.2610e-04 - val_loss: 0.0012\n",
      "Epoch 94/200\n",
      "778/778 [==============================] - 3s 4ms/step - loss: 2.2035e-04 - val_loss: 0.0013\n",
      "Epoch 95/200\n",
      "778/778 [==============================] - 3s 4ms/step - loss: 2.2194e-04 - val_loss: 0.0019\n",
      "Epoch 96/200\n",
      "778/778 [==============================] - 2s 3ms/step - loss: 2.3735e-04 - val_loss: 0.0011\n",
      "Epoch 97/200\n",
      "778/778 [==============================] - 2s 3ms/step - loss: 2.3186e-04 - val_loss: 0.0011\n",
      "Epoch 98/200\n",
      "778/778 [==============================] - 2s 3ms/step - loss: 2.1671e-04 - val_loss: 0.0018\n",
      "Epoch 99/200\n",
      "778/778 [==============================] - 2s 3ms/step - loss: 2.1396e-04 - val_loss: 0.0015\n",
      "Epoch 100/200\n",
      "778/778 [==============================] - 2s 3ms/step - loss: 2.1220e-04 - val_loss: 0.0013\n",
      "Epoch 101/200\n",
      "778/778 [==============================] - 2s 3ms/step - loss: 2.0313e-04 - val_loss: 0.0011\n",
      "Epoch 102/200\n",
      "778/778 [==============================] - 2s 3ms/step - loss: 2.1554e-04 - val_loss: 0.0010\n",
      "Epoch 103/200\n",
      "778/778 [==============================] - 2s 3ms/step - loss: 1.9695e-04 - val_loss: 0.0011\n",
      "Epoch 104/200\n",
      "778/778 [==============================] - 2s 3ms/step - loss: 2.0910e-04 - val_loss: 0.0011\n",
      "Epoch 105/200\n",
      "778/778 [==============================] - 2s 3ms/step - loss: 2.0567e-04 - val_loss: 0.0013\n",
      "Epoch 106/200\n",
      "778/778 [==============================] - 2s 3ms/step - loss: 2.1511e-04 - val_loss: 0.0015\n",
      "Epoch 107/200\n",
      "778/778 [==============================] - 2s 3ms/step - loss: 2.5315e-04 - val_loss: 9.7417e-04\n",
      "Epoch 108/200\n",
      "778/778 [==============================] - 2s 3ms/step - loss: 2.4244e-04 - val_loss: 9.8438e-04\n",
      "Epoch 109/200\n",
      "778/778 [==============================] - 2s 3ms/step - loss: 2.3510e-04 - val_loss: 0.0026\n",
      "Epoch 110/200\n",
      "778/778 [==============================] - 2s 3ms/step - loss: 2.0774e-04 - val_loss: 9.5166e-04\n",
      "Epoch 111/200\n",
      "778/778 [==============================] - 2s 3ms/step - loss: 2.1588e-04 - val_loss: 9.1784e-04\n",
      "Epoch 112/200\n",
      "778/778 [==============================] - 2s 3ms/step - loss: 2.3575e-04 - val_loss: 0.0011\n",
      "Epoch 113/200\n",
      "778/778 [==============================] - 3s 3ms/step - loss: 2.3307e-04 - val_loss: 0.0014\n",
      "Epoch 114/200\n",
      "778/778 [==============================] - 3s 4ms/step - loss: 1.8254e-04 - val_loss: 9.4091e-04\n",
      "Epoch 115/200\n",
      "778/778 [==============================] - 3s 4ms/step - loss: 2.0002e-04 - val_loss: 0.0018\n",
      "Epoch 116/200\n",
      "778/778 [==============================] - 3s 4ms/step - loss: 1.9131e-04 - val_loss: 8.9615e-04\n",
      "Epoch 117/200\n",
      "778/778 [==============================] - 4s 5ms/step - loss: 1.8553e-04 - val_loss: 0.0014\n",
      "Epoch 118/200\n",
      "778/778 [==============================] - 3s 4ms/step - loss: 1.7754e-04 - val_loss: 9.5854e-04\n",
      "Epoch 119/200\n",
      "778/778 [==============================] - 3s 4ms/step - loss: 1.9046e-04 - val_loss: 9.2988e-04\n",
      "Epoch 120/200\n",
      "778/778 [==============================] - 3s 3ms/step - loss: 1.9224e-04 - val_loss: 0.0014\n",
      "Epoch 121/200\n",
      "778/778 [==============================] - 3s 4ms/step - loss: 1.8176e-04 - val_loss: 8.8571e-04\n",
      "Epoch 122/200\n",
      "778/778 [==============================] - 3s 3ms/step - loss: 2.1125e-04 - val_loss: 0.0014\n",
      "Epoch 123/200\n",
      "778/778 [==============================] - 3s 3ms/step - loss: 2.8155e-04 - val_loss: 0.0011\n",
      "Epoch 124/200\n",
      "778/778 [==============================] - 3s 3ms/step - loss: 1.8736e-04 - val_loss: 8.8725e-04\n",
      "Epoch 125/200\n",
      "778/778 [==============================] - 3s 3ms/step - loss: 1.8209e-04 - val_loss: 9.8803e-04\n",
      "Epoch 126/200\n",
      "778/778 [==============================] - 3s 4ms/step - loss: 1.6658e-04 - val_loss: 9.0586e-04\n",
      "Epoch 127/200\n",
      "778/778 [==============================] - 3s 4ms/step - loss: 1.7895e-04 - val_loss: 9.6305e-04\n",
      "Epoch 128/200\n",
      "778/778 [==============================] - 3s 3ms/step - loss: 1.7240e-04 - val_loss: 0.0011\n",
      "Epoch 129/200\n",
      "778/778 [==============================] - 3s 4ms/step - loss: 1.7050e-04 - val_loss: 0.0012\n",
      "Epoch 130/200\n",
      "778/778 [==============================] - 3s 3ms/step - loss: 1.6885e-04 - val_loss: 0.0011\n",
      "Epoch 131/200\n",
      "778/778 [==============================] - 3s 3ms/step - loss: 1.7016e-04 - val_loss: 8.9847e-04\n",
      "Epoch 132/200\n",
      "778/778 [==============================] - 3s 3ms/step - loss: 1.6045e-04 - val_loss: 8.8888e-04\n",
      "Epoch 133/200\n",
      "778/778 [==============================] - 3s 3ms/step - loss: 1.6386e-04 - val_loss: 8.6142e-04\n",
      "Epoch 134/200\n",
      "778/778 [==============================] - 3s 3ms/step - loss: 1.8265e-04 - val_loss: 0.0012\n",
      "Epoch 135/200\n",
      "778/778 [==============================] - 3s 3ms/step - loss: 1.6752e-04 - val_loss: 0.0013\n",
      "Epoch 136/200\n",
      "778/778 [==============================] - 3s 3ms/step - loss: 1.6738e-04 - val_loss: 8.5001e-04\n",
      "Epoch 137/200\n",
      "778/778 [==============================] - 3s 3ms/step - loss: 1.7791e-04 - val_loss: 0.0011\n",
      "Epoch 138/200\n",
      "778/778 [==============================] - 3s 3ms/step - loss: 1.5626e-04 - val_loss: 9.9149e-04\n",
      "Epoch 139/200\n",
      "778/778 [==============================] - 3s 3ms/step - loss: 1.5672e-04 - val_loss: 9.0401e-04\n",
      "Epoch 140/200\n",
      "778/778 [==============================] - 3s 3ms/step - loss: 1.6234e-04 - val_loss: 9.6507e-04\n",
      "Epoch 141/200\n",
      "778/778 [==============================] - 3s 3ms/step - loss: 1.7771e-04 - val_loss: 0.0014\n",
      "Epoch 142/200\n",
      "778/778 [==============================] - 3s 3ms/step - loss: 1.7710e-04 - val_loss: 0.0017\n",
      "Epoch 143/200\n",
      "778/778 [==============================] - 3s 3ms/step - loss: 2.0679e-04 - val_loss: 0.0023\n",
      "Epoch 144/200\n",
      "778/778 [==============================] - 3s 3ms/step - loss: 2.5263e-04 - val_loss: 0.0013\n",
      "Epoch 145/200\n",
      "778/778 [==============================] - 3s 3ms/step - loss: 2.2632e-04 - val_loss: 0.0024\n",
      "Epoch 146/200\n",
      "778/778 [==============================] - 3s 3ms/step - loss: 2.1618e-04 - val_loss: 0.0020\n",
      "Epoch 147/200\n",
      "778/778 [==============================] - 3s 3ms/step - loss: 1.8092e-04 - val_loss: 9.3000e-04\n",
      "Epoch 148/200\n",
      "778/778 [==============================] - 3s 3ms/step - loss: 2.0986e-04 - val_loss: 0.0013\n",
      "Epoch 149/200\n",
      "778/778 [==============================] - 3s 3ms/step - loss: 1.6395e-04 - val_loss: 0.0015\n",
      "Epoch 150/200\n",
      "778/778 [==============================] - 3s 3ms/step - loss: 1.5361e-04 - val_loss: 8.3711e-04\n",
      "Epoch 151/200\n",
      "778/778 [==============================] - 3s 3ms/step - loss: 1.5190e-04 - val_loss: 9.5846e-04\n",
      "Epoch 152/200\n",
      "778/778 [==============================] - 3s 3ms/step - loss: 1.4816e-04 - val_loss: 8.7531e-04\n",
      "Epoch 153/200\n",
      "778/778 [==============================] - 3s 3ms/step - loss: 1.4329e-04 - val_loss: 8.4547e-04\n",
      "Epoch 154/200\n",
      "778/778 [==============================] - 3s 3ms/step - loss: 1.9920e-04 - val_loss: 9.4348e-04\n",
      "Epoch 155/200\n",
      "778/778 [==============================] - 3s 3ms/step - loss: 1.6643e-04 - val_loss: 0.0014\n",
      "Epoch 156/200\n",
      "778/778 [==============================] - 3s 3ms/step - loss: 1.4570e-04 - val_loss: 8.7093e-04\n",
      "Epoch 157/200\n",
      "778/778 [==============================] - 3s 3ms/step - loss: 1.4274e-04 - val_loss: 7.8861e-04\n",
      "Epoch 158/200\n",
      "778/778 [==============================] - 3s 3ms/step - loss: 1.4828e-04 - val_loss: 9.1385e-04\n",
      "Epoch 159/200\n",
      "778/778 [==============================] - 3s 3ms/step - loss: 1.3980e-04 - val_loss: 7.6781e-04\n",
      "Epoch 160/200\n",
      "778/778 [==============================] - 3s 3ms/step - loss: 1.6088e-04 - val_loss: 9.2645e-04\n",
      "Epoch 161/200\n",
      "778/778 [==============================] - 3s 3ms/step - loss: 1.7041e-04 - val_loss: 0.0026\n",
      "Epoch 162/200\n",
      "778/778 [==============================] - 3s 3ms/step - loss: 1.8807e-04 - val_loss: 0.0011\n",
      "Epoch 163/200\n",
      "778/778 [==============================] - 3s 3ms/step - loss: 1.5924e-04 - val_loss: 0.0013\n",
      "Epoch 164/200\n",
      "778/778 [==============================] - 3s 4ms/step - loss: 1.8603e-04 - val_loss: 9.3746e-04\n",
      "Epoch 165/200\n",
      "778/778 [==============================] - 3s 4ms/step - loss: 1.3744e-04 - val_loss: 0.0011\n",
      "Epoch 166/200\n",
      "778/778 [==============================] - 3s 3ms/step - loss: 1.3969e-04 - val_loss: 7.6750e-04\n",
      "Epoch 167/200\n",
      "778/778 [==============================] - 3s 3ms/step - loss: 1.3608e-04 - val_loss: 9.5707e-04\n",
      "Epoch 168/200\n",
      "778/778 [==============================] - 3s 3ms/step - loss: 1.3446e-04 - val_loss: 8.1161e-04\n",
      "Epoch 169/200\n",
      "778/778 [==============================] - 3s 3ms/step - loss: 1.3665e-04 - val_loss: 8.0026e-04\n",
      "Epoch 170/200\n",
      "778/778 [==============================] - 3s 3ms/step - loss: 1.5776e-04 - val_loss: 8.4940e-04\n",
      "Epoch 171/200\n",
      "778/778 [==============================] - 3s 3ms/step - loss: 1.4606e-04 - val_loss: 0.0025\n",
      "Epoch 172/200\n",
      "778/778 [==============================] - 3s 3ms/step - loss: 2.2432e-04 - val_loss: 7.7484e-04\n",
      "Epoch 173/200\n",
      "778/778 [==============================] - 3s 3ms/step - loss: 1.5560e-04 - val_loss: 7.8608e-04\n",
      "Epoch 174/200\n",
      "778/778 [==============================] - 3s 3ms/step - loss: 1.7410e-04 - val_loss: 0.0014\n",
      "Epoch 175/200\n",
      "778/778 [==============================] - 3s 3ms/step - loss: 1.5224e-04 - val_loss: 0.0017\n",
      "Epoch 176/200\n",
      "778/778 [==============================] - 3s 4ms/step - loss: 1.5532e-04 - val_loss: 8.1672e-04\n",
      "Epoch 177/200\n",
      "778/778 [==============================] - 3s 4ms/step - loss: 1.2703e-04 - val_loss: 0.0012\n",
      "Epoch 178/200\n",
      "778/778 [==============================] - 3s 3ms/step - loss: 1.2868e-04 - val_loss: 0.0013\n",
      "Epoch 179/200\n",
      "778/778 [==============================] - 3s 3ms/step - loss: 1.4705e-04 - val_loss: 7.5752e-04\n",
      "Epoch 180/200\n",
      "778/778 [==============================] - 3s 3ms/step - loss: 1.3662e-04 - val_loss: 7.6685e-04\n",
      "Epoch 181/200\n",
      "778/778 [==============================] - 3s 4ms/step - loss: 1.2871e-04 - val_loss: 0.0013\n",
      "Epoch 182/200\n",
      "778/778 [==============================] - 3s 4ms/step - loss: 1.2782e-04 - val_loss: 0.0013\n",
      "Epoch 183/200\n",
      "778/778 [==============================] - 3s 4ms/step - loss: 1.4948e-04 - val_loss: 8.1260e-04\n",
      "Epoch 184/200\n",
      "778/778 [==============================] - 3s 4ms/step - loss: 1.4622e-04 - val_loss: 0.0014\n",
      "Epoch 185/200\n",
      "778/778 [==============================] - 3s 4ms/step - loss: 1.3937e-04 - val_loss: 0.0018\n",
      "Epoch 186/200\n",
      "778/778 [==============================] - 3s 4ms/step - loss: 1.8342e-04 - val_loss: 7.6924e-04\n",
      "Epoch 187/200\n",
      "778/778 [==============================] - 3s 3ms/step - loss: 1.5165e-04 - val_loss: 8.4063e-04\n",
      "Epoch 188/200\n",
      "778/778 [==============================] - 3s 3ms/step - loss: 1.5379e-04 - val_loss: 9.0956e-04\n",
      "Epoch 189/200\n",
      "778/778 [==============================] - 2s 3ms/step - loss: 1.2652e-04 - val_loss: 9.8284e-04\n",
      "Epoch 190/200\n",
      "778/778 [==============================] - 3s 3ms/step - loss: 1.2203e-04 - val_loss: 9.2521e-04\n",
      "Epoch 191/200\n",
      "778/778 [==============================] - 3s 3ms/step - loss: 1.1775e-04 - val_loss: 7.7451e-04\n",
      "Epoch 192/200\n",
      "778/778 [==============================] - 3s 3ms/step - loss: 1.1865e-04 - val_loss: 9.2862e-04\n",
      "Epoch 193/200\n",
      "778/778 [==============================] - 3s 3ms/step - loss: 1.2071e-04 - val_loss: 9.7251e-04\n",
      "Epoch 194/200\n",
      "778/778 [==============================] - 3s 3ms/step - loss: 1.2508e-04 - val_loss: 0.0011\n",
      "Epoch 195/200\n",
      "778/778 [==============================] - 2s 3ms/step - loss: 1.1893e-04 - val_loss: 9.7670e-04\n",
      "Epoch 196/200\n",
      "778/778 [==============================] - 3s 4ms/step - loss: 1.1520e-04 - val_loss: 8.0715e-04\n",
      "Epoch 197/200\n",
      "778/778 [==============================] - 3s 4ms/step - loss: 1.3078e-04 - val_loss: 9.3220e-04\n",
      "Epoch 198/200\n",
      "778/778 [==============================] - 3s 3ms/step - loss: 1.4706e-04 - val_loss: 0.0010\n",
      "Epoch 199/200\n",
      "778/778 [==============================] - 2s 3ms/step - loss: 1.2608e-04 - val_loss: 0.0010\n",
      "Epoch 200/200\n",
      "778/778 [==============================] - 2s 3ms/step - loss: 1.6129e-04 - val_loss: 8.8463e-04\n"
     ]
    }
   ],
   "source": [
    "fit_history = model.fit(trainX,trainY, batch_size=64, epochs=200, validation_data=(testX,testY), verbose=1)"
   ]
  },
  {
   "cell_type": "markdown",
   "metadata": {},
   "source": [
    "### prediction and performance matrix"
   ]
  },
  {
   "cell_type": "code",
   "execution_count": 77,
   "metadata": {},
   "outputs": [],
   "source": [
    "trainX_predict = model.predict(trainX) \n",
    "testX_predict = model.predict(testX)"
   ]
  },
  {
   "cell_type": "code",
   "execution_count": 78,
   "metadata": {},
   "outputs": [],
   "source": [
    "#backing to original data\n",
    "trainX_predict = scaler.inverse_transform(trainX_predict)\n",
    "testX_predict = scaler.inverse_transform(testX_predict)"
   ]
  },
  {
   "cell_type": "code",
   "execution_count": null,
   "metadata": {},
   "outputs": [],
   "source": []
  },
  {
   "cell_type": "code",
   "execution_count": 79,
   "metadata": {},
   "outputs": [
    {
     "data": {
      "text/plain": [
       "(778, 1)"
      ]
     },
     "execution_count": 79,
     "metadata": {},
     "output_type": "execute_result"
    }
   ],
   "source": [
    "trainX_predict.shape"
   ]
  },
  {
   "cell_type": "code",
   "execution_count": 80,
   "metadata": {},
   "outputs": [
    {
     "data": {
      "text/plain": [
       "(277, 1)"
      ]
     },
     "execution_count": 80,
     "metadata": {},
     "output_type": "execute_result"
    }
   ],
   "source": [
    "testX_predict.shape"
   ]
  },
  {
   "cell_type": "markdown",
   "metadata": {},
   "source": [
    "### Root mean squared error(RMSE) performance matrix"
   ]
  },
  {
   "cell_type": "code",
   "execution_count": 81,
   "metadata": {},
   "outputs": [
    {
     "data": {
      "text/plain": [
       "151.75453400937778"
      ]
     },
     "execution_count": 81,
     "metadata": {},
     "output_type": "execute_result"
    }
   ],
   "source": [
    "#RMSE for train data\n",
    "math.sqrt(mean_squared_error(trainY, trainX_predict))"
   ]
  },
  {
   "cell_type": "code",
   "execution_count": 82,
   "metadata": {},
   "outputs": [
    {
     "data": {
      "text/plain": [
       "252.5780489767932"
      ]
     },
     "execution_count": 82,
     "metadata": {},
     "output_type": "execute_result"
    }
   ],
   "source": [
    "#RMSE for test data\n",
    "math.sqrt(mean_squared_error(testY, testX_predict))"
   ]
  },
  {
   "cell_type": "markdown",
   "metadata": {},
   "source": [
    "### plotting train and test data"
   ]
  },
  {
   "cell_type": "code",
   "execution_count": 83,
   "metadata": {},
   "outputs": [
    {
     "data": {
      "image/png": "[encoded data removed]",
      "text/plain": [
       "<Figure size 432x288 with 1 Axes>"
      ]
     },
     "metadata": {
      "needs_background": "light"
     },
     "output_type": "display_data"
    }
   ],
   "source": [
    "### Plotting \n",
    "# shift train predictions for plotting\n",
    "#look_back=100\n",
    "trainPredictPlot = np.empty_like(data)\n",
    "trainPredictPlot[:, :] = np.nan\n",
    "trainPredictPlot[time_step:len(trainX_predict)+time_step, :] = trainX_predict\n",
    "# shift test predictions for plotting\n",
    "testPredictPlot = np.empty_like(data)\n",
    "testPredictPlot[:, :] = np.nan\n",
    "testPredictPlot[len(trainX_predict)+(time_step*2)+1:len(data)-1, :] = testX_predict\n",
    "# plot baseline and predictions\n",
    "plt.plot(scaler.inverse_transform(data))\n",
    "plt.plot(trainPredictPlot)\n",
    "plt.plot(testPredictPlot)\n",
    "plt.show()"
   ]
  },
  {
   "cell_type": "code",
   "execution_count": null,
   "metadata": {},
   "outputs": [],
   "source": []
  },
  {
   "cell_type": "markdown",
   "metadata": {},
   "source": [
    "### Predicting next 30 days share"
   ]
  },
  {
   "cell_type": "code",
   "execution_count": 84,
   "metadata": {},
   "outputs": [
    {
     "data": {
      "text/plain": [
       "378"
      ]
     },
     "execution_count": 84,
     "metadata": {},
     "output_type": "execute_result"
    }
   ],
   "source": [
    "#len of test data\n",
    "len(test)"
   ]
  },
  {
   "cell_type": "code",
   "execution_count": 85,
   "metadata": {},
   "outputs": [
    {
     "data": {
      "text/plain": [
       "(1, 100)"
      ]
     },
     "execution_count": 85,
     "metadata": {},
     "output_type": "execute_result"
    }
   ],
   "source": [
    "x_input = test[278:].reshape(1,-1)\n",
    "x_input.shape"
   ]
  },
  {
   "cell_type": "code",
   "execution_count": 86,
   "metadata": {},
   "outputs": [
    {
     "data": {
      "text/plain": [
       "[0.8743139407244789,\n",
       " 0.8843198513890065,\n",
       " 0.8783669678290975,\n",
       " 0.8986321033521913,\n",
       " 0.925821160179009,\n",
       " 0.9287764924427933,\n",
       " 0.9567677108840666,\n",
       " 0.9386979650426415,\n",
       " 0.933040614709111,\n",
       " 0.9495060373216249,\n",
       " 0.9642404796082076,\n",
       " 0.9551211686228154,\n",
       " 0.9598919192772104,\n",
       " 0.9663514312251966,\n",
       " 0.9624672802499368,\n",
       " 0.9229502659799038,\n",
       " 0.9598497002448705,\n",
       " 0.9879253567508233,\n",
       " 0.985941062230854,\n",
       " 0.9253145317909315,\n",
       " 0.9217259140420504,\n",
       " 0.964747107996285,\n",
       " 0.9757240564046274,\n",
       " 0.9915984125643842,\n",
       " 0.9697289538123788,\n",
       " 0.9761462467280253,\n",
       " 0.9679557544541082,\n",
       " 1.0000000000000002,\n",
       " 0.9901629654648318,\n",
       " 0.9905007177235499,\n",
       " 0.9653803934813816,\n",
       " 0.9848855864223593,\n",
       " 0.9708688676855528,\n",
       " 0.9402600692392133,\n",
       " 0.8774803681499621,\n",
       " 0.8348391454867856,\n",
       " 0.8541332432660644,\n",
       " 0.7733682344000676,\n",
       " 0.7726927298826314,\n",
       " 0.8801401671873683,\n",
       " 0.8400743054969182,\n",
       " 0.8967322468969012,\n",
       " 0.8552731571392387,\n",
       " 0.8388499535590646,\n",
       " 0.7423372456303303,\n",
       " 0.8232711306256861,\n",
       " 0.7814320695769654,\n",
       " 0.6665963016127672,\n",
       " 0.7921557037912694,\n",
       " 0.6411804441442204,\n",
       " 0.6861437135860848,\n",
       " 0.6600101325677616,\n",
       " 0.6520307354555435,\n",
       " 0.5864223591995272,\n",
       " 0.5658616904500551,\n",
       " 0.660896732246897,\n",
       " 0.6551549438486872,\n",
       " 0.7097019336316812,\n",
       " 0.664527569028118,\n",
       " 0.6943764248923416,\n",
       " 0.692181035210673,\n",
       " 0.6356919699400492,\n",
       " 0.6526640209406402,\n",
       " 0.637802921557038,\n",
       " 0.7267162036646122,\n",
       " 0.7138816178333194,\n",
       " 0.7419150553069325,\n",
       " 0.7500211095161702,\n",
       " 0.7722283205268936,\n",
       " 0.8304905851557884,\n",
       " 0.8194291986827664,\n",
       " 0.8289706999915563,\n",
       " 0.8125474964113824,\n",
       " 0.7877649244279323,\n",
       " 0.7516254327450818,\n",
       " 0.7842607447437306,\n",
       " 0.7797433082833742,\n",
       " 0.8132652199611587,\n",
       " 0.8141096006079542,\n",
       " 0.7947310647639958,\n",
       " 0.8333614793548934,\n",
       " 0.8589884319851391,\n",
       " 0.8390188296884238,\n",
       " 0.8562864139153934,\n",
       " 0.8748627881448958,\n",
       " 0.887824031073208,\n",
       " 0.9009541501308793,\n",
       " 0.9279321117959978,\n",
       " 0.9485349995778098,\n",
       " 0.9333361479354896,\n",
       " 0.9174617917757326,\n",
       " 0.925441188887951,\n",
       " 0.9177151059697712,\n",
       " 0.9483239044161109,\n",
       " 0.9406400405302711,\n",
       " 0.9663514312251966,\n",
       " 0.9563033015283293,\n",
       " 0.964915984125644,\n",
       " 0.9557966731402519,\n",
       " 0.9616228996031413]"
      ]
     },
     "execution_count": 86,
     "metadata": {},
     "output_type": "execute_result"
    }
   ],
   "source": [
    "temp_input = list(x_input)\n",
    "temp_input = temp_input[0].tolist()\n",
    "temp_input"
   ]
  },
  {
   "cell_type": "code",
   "execution_count": null,
   "metadata": {},
   "outputs": [],
   "source": []
  },
  {
   "cell_type": "code",
   "execution_count": 87,
   "metadata": {},
   "outputs": [
    {
     "name": "stdout",
     "output_type": "stream",
     "text": [
      "[0.9712267]\n",
      "101\n",
      "1 day input [0.88431985 0.87836697 0.8986321  0.92582116 0.92877649 0.95676771\n",
      " 0.93869797 0.93304061 0.94950604 0.96424048 0.95512117 0.95989192\n",
      " 0.96635143 0.96246728 0.92295027 0.9598497  0.98792536 0.98594106\n",
      " 0.92531453 0.92172591 0.96474711 0.97572406 0.99159841 0.96972895\n",
      " 0.97614625 0.96795575 1.         0.99016297 0.99050072 0.96538039\n",
      " 0.98488559 0.97086887 0.94026007 0.87748037 0.83483915 0.85413324\n",
      " 0.77336823 0.77269273 0.88014017 0.84007431 0.89673225 0.85527316\n",
      " 0.83884995 0.74233725 0.82327113 0.78143207 0.6665963  0.7921557\n",
      " 0.64118044 0.68614371 0.66001013 0.65203074 0.58642236 0.56586169\n",
      " 0.66089673 0.65515494 0.70970193 0.66452757 0.69437642 0.69218104\n",
      " 0.63569197 0.65266402 0.63780292 0.7267162  0.71388162 0.74191506\n",
      " 0.75002111 0.77222832 0.83049059 0.8194292  0.8289707  0.8125475\n",
      " 0.78776492 0.75162543 0.78426074 0.77974331 0.81326522 0.8141096\n",
      " 0.79473106 0.83336148 0.85898843 0.83901883 0.85628641 0.87486279\n",
      " 0.88782403 0.90095415 0.92793211 0.948535   0.93333615 0.91746179\n",
      " 0.92544119 0.91771511 0.9483239  0.94064004 0.96635143 0.9563033\n",
      " 0.96491598 0.95579667 0.9616229  0.97122669]\n",
      "1 day output [[0.9760034]]\n",
      "2 day input [0.87836697 0.8986321  0.92582116 0.92877649 0.95676771 0.93869797\n",
      " 0.93304061 0.94950604 0.96424048 0.95512117 0.95989192 0.96635143\n",
      " 0.96246728 0.92295027 0.9598497  0.98792536 0.98594106 0.92531453\n",
      " 0.92172591 0.96474711 0.97572406 0.99159841 0.96972895 0.97614625\n",
      " 0.96795575 1.         0.99016297 0.99050072 0.96538039 0.98488559\n",
      " 0.97086887 0.94026007 0.87748037 0.83483915 0.85413324 0.77336823\n",
      " 0.77269273 0.88014017 0.84007431 0.89673225 0.85527316 0.83884995\n",
      " 0.74233725 0.82327113 0.78143207 0.6665963  0.7921557  0.64118044\n",
      " 0.68614371 0.66001013 0.65203074 0.58642236 0.56586169 0.66089673\n",
      " 0.65515494 0.70970193 0.66452757 0.69437642 0.69218104 0.63569197\n",
      " 0.65266402 0.63780292 0.7267162  0.71388162 0.74191506 0.75002111\n",
      " 0.77222832 0.83049059 0.8194292  0.8289707  0.8125475  0.78776492\n",
      " 0.75162543 0.78426074 0.77974331 0.81326522 0.8141096  0.79473106\n",
      " 0.83336148 0.85898843 0.83901883 0.85628641 0.87486279 0.88782403\n",
      " 0.90095415 0.92793211 0.948535   0.93333615 0.91746179 0.92544119\n",
      " 0.91771511 0.9483239  0.94064004 0.96635143 0.9563033  0.96491598\n",
      " 0.95579667 0.9616229  0.97122669 0.97600341]\n",
      "2 day output [[0.9804817]]\n",
      "3 day input [0.8986321  0.92582116 0.92877649 0.95676771 0.93869797 0.93304061\n",
      " 0.94950604 0.96424048 0.95512117 0.95989192 0.96635143 0.96246728\n",
      " 0.92295027 0.9598497  0.98792536 0.98594106 0.92531453 0.92172591\n",
      " 0.96474711 0.97572406 0.99159841 0.96972895 0.97614625 0.96795575\n",
      " 1.         0.99016297 0.99050072 0.96538039 0.98488559 0.97086887\n",
      " 0.94026007 0.87748037 0.83483915 0.85413324 0.77336823 0.77269273\n",
      " 0.88014017 0.84007431 0.89673225 0.85527316 0.83884995 0.74233725\n",
      " 0.82327113 0.78143207 0.6665963  0.7921557  0.64118044 0.68614371\n",
      " 0.66001013 0.65203074 0.58642236 0.56586169 0.66089673 0.65515494\n",
      " 0.70970193 0.66452757 0.69437642 0.69218104 0.63569197 0.65266402\n",
      " 0.63780292 0.7267162  0.71388162 0.74191506 0.75002111 0.77222832\n",
      " 0.83049059 0.8194292  0.8289707  0.8125475  0.78776492 0.75162543\n",
      " 0.78426074 0.77974331 0.81326522 0.8141096  0.79473106 0.83336148\n",
      " 0.85898843 0.83901883 0.85628641 0.87486279 0.88782403 0.90095415\n",
      " 0.92793211 0.948535   0.93333615 0.91746179 0.92544119 0.91771511\n",
      " 0.9483239  0.94064004 0.96635143 0.9563033  0.96491598 0.95579667\n",
      " 0.9616229  0.97122669 0.97600341 0.98048168]\n",
      "3 day output [[0.98493934]]\n",
      "4 day input [0.92582116 0.92877649 0.95676771 0.93869797 0.93304061 0.94950604\n",
      " 0.96424048 0.95512117 0.95989192 0.96635143 0.96246728 0.92295027\n",
      " 0.9598497  0.98792536 0.98594106 0.92531453 0.92172591 0.96474711\n",
      " 0.97572406 0.99159841 0.96972895 0.97614625 0.96795575 1.\n",
      " 0.99016297 0.99050072 0.96538039 0.98488559 0.97086887 0.94026007\n",
      " 0.87748037 0.83483915 0.85413324 0.77336823 0.77269273 0.88014017\n",
      " 0.84007431 0.89673225 0.85527316 0.83884995 0.74233725 0.82327113\n",
      " 0.78143207 0.6665963  0.7921557  0.64118044 0.68614371 0.66001013\n",
      " 0.65203074 0.58642236 0.56586169 0.66089673 0.65515494 0.70970193\n",
      " 0.66452757 0.69437642 0.69218104 0.63569197 0.65266402 0.63780292\n",
      " 0.7267162  0.71388162 0.74191506 0.75002111 0.77222832 0.83049059\n",
      " 0.8194292  0.8289707  0.8125475  0.78776492 0.75162543 0.78426074\n",
      " 0.77974331 0.81326522 0.8141096  0.79473106 0.83336148 0.85898843\n",
      " 0.83901883 0.85628641 0.87486279 0.88782403 0.90095415 0.92793211\n",
      " 0.948535   0.93333615 0.91746179 0.92544119 0.91771511 0.9483239\n",
      " 0.94064004 0.96635143 0.9563033  0.96491598 0.95579667 0.9616229\n",
      " 0.97122669 0.97600341 0.98048168 0.98493934]\n",
      "4 day output [[0.98914194]]\n",
      "5 day input [0.92877649 0.95676771 0.93869797 0.93304061 0.94950604 0.96424048\n",
      " 0.95512117 0.95989192 0.96635143 0.96246728 0.92295027 0.9598497\n",
      " 0.98792536 0.98594106 0.92531453 0.92172591 0.96474711 0.97572406\n",
      " 0.99159841 0.96972895 0.97614625 0.96795575 1.         0.99016297\n",
      " 0.99050072 0.96538039 0.98488559 0.97086887 0.94026007 0.87748037\n",
      " 0.83483915 0.85413324 0.77336823 0.77269273 0.88014017 0.84007431\n",
      " 0.89673225 0.85527316 0.83884995 0.74233725 0.82327113 0.78143207\n",
      " 0.6665963  0.7921557  0.64118044 0.68614371 0.66001013 0.65203074\n",
      " 0.58642236 0.56586169 0.66089673 0.65515494 0.70970193 0.66452757\n",
      " 0.69437642 0.69218104 0.63569197 0.65266402 0.63780292 0.7267162\n",
      " 0.71388162 0.74191506 0.75002111 0.77222832 0.83049059 0.8194292\n",
      " 0.8289707  0.8125475  0.78776492 0.75162543 0.78426074 0.77974331\n",
      " 0.81326522 0.8141096  0.79473106 0.83336148 0.85898843 0.83901883\n",
      " 0.85628641 0.87486279 0.88782403 0.90095415 0.92793211 0.948535\n",
      " 0.93333615 0.91746179 0.92544119 0.91771511 0.9483239  0.94064004\n",
      " 0.96635143 0.9563033  0.96491598 0.95579667 0.9616229  0.97122669\n",
      " 0.97600341 0.98048168 0.98493934 0.98914194]\n",
      "5 day output [[0.99316967]]\n",
      "6 day input [0.95676771 0.93869797 0.93304061 0.94950604 0.96424048 0.95512117\n",
      " 0.95989192 0.96635143 0.96246728 0.92295027 0.9598497  0.98792536\n",
      " 0.98594106 0.92531453 0.92172591 0.96474711 0.97572406 0.99159841\n",
      " 0.96972895 0.97614625 0.96795575 1.         0.99016297 0.99050072\n",
      " 0.96538039 0.98488559 0.97086887 0.94026007 0.87748037 0.83483915\n",
      " 0.85413324 0.77336823 0.77269273 0.88014017 0.84007431 0.89673225\n",
      " 0.85527316 0.83884995 0.74233725 0.82327113 0.78143207 0.6665963\n",
      " 0.7921557  0.64118044 0.68614371 0.66001013 0.65203074 0.58642236\n",
      " 0.56586169 0.66089673 0.65515494 0.70970193 0.66452757 0.69437642\n",
      " 0.69218104 0.63569197 0.65266402 0.63780292 0.7267162  0.71388162\n",
      " 0.74191506 0.75002111 0.77222832 0.83049059 0.8194292  0.8289707\n",
      " 0.8125475  0.78776492 0.75162543 0.78426074 0.77974331 0.81326522\n",
      " 0.8141096  0.79473106 0.83336148 0.85898843 0.83901883 0.85628641\n",
      " 0.87486279 0.88782403 0.90095415 0.92793211 0.948535   0.93333615\n",
      " 0.91746179 0.92544119 0.91771511 0.9483239  0.94064004 0.96635143\n",
      " 0.9563033  0.96491598 0.95579667 0.9616229  0.97122669 0.97600341\n",
      " 0.98048168 0.98493934 0.98914194 0.99316967]\n",
      "6 day output [[0.99709016]]\n",
      "7 day input [0.93869797 0.93304061 0.94950604 0.96424048 0.95512117 0.95989192\n",
      " 0.96635143 0.96246728 0.92295027 0.9598497  0.98792536 0.98594106\n",
      " 0.92531453 0.92172591 0.96474711 0.97572406 0.99159841 0.96972895\n",
      " 0.97614625 0.96795575 1.         0.99016297 0.99050072 0.96538039\n",
      " 0.98488559 0.97086887 0.94026007 0.87748037 0.83483915 0.85413324\n",
      " 0.77336823 0.77269273 0.88014017 0.84007431 0.89673225 0.85527316\n",
      " 0.83884995 0.74233725 0.82327113 0.78143207 0.6665963  0.7921557\n",
      " 0.64118044 0.68614371 0.66001013 0.65203074 0.58642236 0.56586169\n",
      " 0.66089673 0.65515494 0.70970193 0.66452757 0.69437642 0.69218104\n",
      " 0.63569197 0.65266402 0.63780292 0.7267162  0.71388162 0.74191506\n",
      " 0.75002111 0.77222832 0.83049059 0.8194292  0.8289707  0.8125475\n",
      " 0.78776492 0.75162543 0.78426074 0.77974331 0.81326522 0.8141096\n",
      " 0.79473106 0.83336148 0.85898843 0.83901883 0.85628641 0.87486279\n",
      " 0.88782403 0.90095415 0.92793211 0.948535   0.93333615 0.91746179\n",
      " 0.92544119 0.91771511 0.9483239  0.94064004 0.96635143 0.9563033\n",
      " 0.96491598 0.95579667 0.9616229  0.97122669 0.97600341 0.98048168\n",
      " 0.98493934 0.98914194 0.99316967 0.99709016]\n",
      "7 day output [[1.0009362]]\n",
      "8 day input [0.93304061 0.94950604 0.96424048 0.95512117 0.95989192 0.96635143\n",
      " 0.96246728 0.92295027 0.9598497  0.98792536 0.98594106 0.92531453\n",
      " 0.92172591 0.96474711 0.97572406 0.99159841 0.96972895 0.97614625\n",
      " 0.96795575 1.         0.99016297 0.99050072 0.96538039 0.98488559\n",
      " 0.97086887 0.94026007 0.87748037 0.83483915 0.85413324 0.77336823\n",
      " 0.77269273 0.88014017 0.84007431 0.89673225 0.85527316 0.83884995\n",
      " 0.74233725 0.82327113 0.78143207 0.6665963  0.7921557  0.64118044\n",
      " 0.68614371 0.66001013 0.65203074 0.58642236 0.56586169 0.66089673\n",
      " 0.65515494 0.70970193 0.66452757 0.69437642 0.69218104 0.63569197\n",
      " 0.65266402 0.63780292 0.7267162  0.71388162 0.74191506 0.75002111\n",
      " 0.77222832 0.83049059 0.8194292  0.8289707  0.8125475  0.78776492\n",
      " 0.75162543 0.78426074 0.77974331 0.81326522 0.8141096  0.79473106\n",
      " 0.83336148 0.85898843 0.83901883 0.85628641 0.87486279 0.88782403\n",
      " 0.90095415 0.92793211 0.948535   0.93333615 0.91746179 0.92544119\n",
      " 0.91771511 0.9483239  0.94064004 0.96635143 0.9563033  0.96491598\n",
      " 0.95579667 0.9616229  0.97122669 0.97600341 0.98048168 0.98493934\n",
      " 0.98914194 0.99316967 0.99709016 1.00093615]\n",
      "8 day output [[1.0047288]]\n",
      "9 day input [0.94950604 0.96424048 0.95512117 0.95989192 0.96635143 0.96246728\n",
      " 0.92295027 0.9598497  0.98792536 0.98594106 0.92531453 0.92172591\n",
      " 0.96474711 0.97572406 0.99159841 0.96972895 0.97614625 0.96795575\n",
      " 1.         0.99016297 0.99050072 0.96538039 0.98488559 0.97086887\n",
      " 0.94026007 0.87748037 0.83483915 0.85413324 0.77336823 0.77269273\n",
      " 0.88014017 0.84007431 0.89673225 0.85527316 0.83884995 0.74233725\n",
      " 0.82327113 0.78143207 0.6665963  0.7921557  0.64118044 0.68614371\n",
      " 0.66001013 0.65203074 0.58642236 0.56586169 0.66089673 0.65515494\n",
      " 0.70970193 0.66452757 0.69437642 0.69218104 0.63569197 0.65266402\n",
      " 0.63780292 0.7267162  0.71388162 0.74191506 0.75002111 0.77222832\n",
      " 0.83049059 0.8194292  0.8289707  0.8125475  0.78776492 0.75162543\n",
      " 0.78426074 0.77974331 0.81326522 0.8141096  0.79473106 0.83336148\n",
      " 0.85898843 0.83901883 0.85628641 0.87486279 0.88782403 0.90095415\n",
      " 0.92793211 0.948535   0.93333615 0.91746179 0.92544119 0.91771511\n",
      " 0.9483239  0.94064004 0.96635143 0.9563033  0.96491598 0.95579667\n",
      " 0.9616229  0.97122669 0.97600341 0.98048168 0.98493934 0.98914194\n",
      " 0.99316967 0.99709016 1.00093615 1.00472879]\n",
      "9 day output [[1.0084776]]\n",
      "10 day input [0.96424048 0.95512117 0.95989192 0.96635143 0.96246728 0.92295027\n",
      " 0.9598497  0.98792536 0.98594106 0.92531453 0.92172591 0.96474711\n",
      " 0.97572406 0.99159841 0.96972895 0.97614625 0.96795575 1.\n",
      " 0.99016297 0.99050072 0.96538039 0.98488559 0.97086887 0.94026007\n",
      " 0.87748037 0.83483915 0.85413324 0.77336823 0.77269273 0.88014017\n",
      " 0.84007431 0.89673225 0.85527316 0.83884995 0.74233725 0.82327113\n",
      " 0.78143207 0.6665963  0.7921557  0.64118044 0.68614371 0.66001013\n",
      " 0.65203074 0.58642236 0.56586169 0.66089673 0.65515494 0.70970193\n",
      " 0.66452757 0.69437642 0.69218104 0.63569197 0.65266402 0.63780292\n",
      " 0.7267162  0.71388162 0.74191506 0.75002111 0.77222832 0.83049059\n",
      " 0.8194292  0.8289707  0.8125475  0.78776492 0.75162543 0.78426074\n",
      " 0.77974331 0.81326522 0.8141096  0.79473106 0.83336148 0.85898843\n",
      " 0.83901883 0.85628641 0.87486279 0.88782403 0.90095415 0.92793211\n",
      " 0.948535   0.93333615 0.91746179 0.92544119 0.91771511 0.9483239\n",
      " 0.94064004 0.96635143 0.9563033  0.96491598 0.95579667 0.9616229\n",
      " 0.97122669 0.97600341 0.98048168 0.98493934 0.98914194 0.99316967\n",
      " 0.99709016 1.00093615 1.00472879 1.00847757]\n",
      "10 day output [[1.0121857]]\n",
      "11 day input [0.95512117 0.95989192 0.96635143 0.96246728 0.92295027 0.9598497\n",
      " 0.98792536 0.98594106 0.92531453 0.92172591 0.96474711 0.97572406\n",
      " 0.99159841 0.96972895 0.97614625 0.96795575 1.         0.99016297\n",
      " 0.99050072 0.96538039 0.98488559 0.97086887 0.94026007 0.87748037\n",
      " 0.83483915 0.85413324 0.77336823 0.77269273 0.88014017 0.84007431\n",
      " 0.89673225 0.85527316 0.83884995 0.74233725 0.82327113 0.78143207\n",
      " 0.6665963  0.7921557  0.64118044 0.68614371 0.66001013 0.65203074\n",
      " 0.58642236 0.56586169 0.66089673 0.65515494 0.70970193 0.66452757\n",
      " 0.69437642 0.69218104 0.63569197 0.65266402 0.63780292 0.7267162\n",
      " 0.71388162 0.74191506 0.75002111 0.77222832 0.83049059 0.8194292\n",
      " 0.8289707  0.8125475  0.78776492 0.75162543 0.78426074 0.77974331\n",
      " 0.81326522 0.8141096  0.79473106 0.83336148 0.85898843 0.83901883\n",
      " 0.85628641 0.87486279 0.88782403 0.90095415 0.92793211 0.948535\n",
      " 0.93333615 0.91746179 0.92544119 0.91771511 0.9483239  0.94064004\n",
      " 0.96635143 0.9563033  0.96491598 0.95579667 0.9616229  0.97122669\n",
      " 0.97600341 0.98048168 0.98493934 0.98914194 0.99316967 0.99709016\n",
      " 1.00093615 1.00472879 1.00847757 1.01218569]\n",
      "11 day output [[1.0158511]]\n",
      "12 day input [0.95989192 0.96635143 0.96246728 0.92295027 0.9598497  0.98792536\n",
      " 0.98594106 0.92531453 0.92172591 0.96474711 0.97572406 0.99159841\n",
      " 0.96972895 0.97614625 0.96795575 1.         0.99016297 0.99050072\n",
      " 0.96538039 0.98488559 0.97086887 0.94026007 0.87748037 0.83483915\n",
      " 0.85413324 0.77336823 0.77269273 0.88014017 0.84007431 0.89673225\n",
      " 0.85527316 0.83884995 0.74233725 0.82327113 0.78143207 0.6665963\n",
      " 0.7921557  0.64118044 0.68614371 0.66001013 0.65203074 0.58642236\n",
      " 0.56586169 0.66089673 0.65515494 0.70970193 0.66452757 0.69437642\n",
      " 0.69218104 0.63569197 0.65266402 0.63780292 0.7267162  0.71388162\n",
      " 0.74191506 0.75002111 0.77222832 0.83049059 0.8194292  0.8289707\n",
      " 0.8125475  0.78776492 0.75162543 0.78426074 0.77974331 0.81326522\n",
      " 0.8141096  0.79473106 0.83336148 0.85898843 0.83901883 0.85628641\n",
      " 0.87486279 0.88782403 0.90095415 0.92793211 0.948535   0.93333615\n",
      " 0.91746179 0.92544119 0.91771511 0.9483239  0.94064004 0.96635143\n",
      " 0.9563033  0.96491598 0.95579667 0.9616229  0.97122669 0.97600341\n",
      " 0.98048168 0.98493934 0.98914194 0.99316967 0.99709016 1.00093615\n",
      " 1.00472879 1.00847757 1.01218569 1.01585114]\n",
      "12 day output [[1.0194701]]\n",
      "13 day input [0.96635143 0.96246728 0.92295027 0.9598497  0.98792536 0.98594106\n",
      " 0.92531453 0.92172591 0.96474711 0.97572406 0.99159841 0.96972895\n",
      " 0.97614625 0.96795575 1.         0.99016297 0.99050072 0.96538039\n",
      " 0.98488559 0.97086887 0.94026007 0.87748037 0.83483915 0.85413324\n",
      " 0.77336823 0.77269273 0.88014017 0.84007431 0.89673225 0.85527316\n",
      " 0.83884995 0.74233725 0.82327113 0.78143207 0.6665963  0.7921557\n",
      " 0.64118044 0.68614371 0.66001013 0.65203074 0.58642236 0.56586169\n",
      " 0.66089673 0.65515494 0.70970193 0.66452757 0.69437642 0.69218104\n",
      " 0.63569197 0.65266402 0.63780292 0.7267162  0.71388162 0.74191506\n",
      " 0.75002111 0.77222832 0.83049059 0.8194292  0.8289707  0.8125475\n",
      " 0.78776492 0.75162543 0.78426074 0.77974331 0.81326522 0.8141096\n",
      " 0.79473106 0.83336148 0.85898843 0.83901883 0.85628641 0.87486279\n",
      " 0.88782403 0.90095415 0.92793211 0.948535   0.93333615 0.91746179\n",
      " 0.92544119 0.91771511 0.9483239  0.94064004 0.96635143 0.9563033\n",
      " 0.96491598 0.95579667 0.9616229  0.97122669 0.97600341 0.98048168\n",
      " 0.98493934 0.98914194 0.99316967 0.99709016 1.00093615 1.00472879\n",
      " 1.00847757 1.01218569 1.01585114 1.0194701 ]\n",
      "13 day output [[1.0230383]]\n",
      "14 day input [0.96246728 0.92295027 0.9598497  0.98792536 0.98594106 0.92531453\n",
      " 0.92172591 0.96474711 0.97572406 0.99159841 0.96972895 0.97614625\n",
      " 0.96795575 1.         0.99016297 0.99050072 0.96538039 0.98488559\n",
      " 0.97086887 0.94026007 0.87748037 0.83483915 0.85413324 0.77336823\n",
      " 0.77269273 0.88014017 0.84007431 0.89673225 0.85527316 0.83884995\n",
      " 0.74233725 0.82327113 0.78143207 0.6665963  0.7921557  0.64118044\n",
      " 0.68614371 0.66001013 0.65203074 0.58642236 0.56586169 0.66089673\n",
      " 0.65515494 0.70970193 0.66452757 0.69437642 0.69218104 0.63569197\n",
      " 0.65266402 0.63780292 0.7267162  0.71388162 0.74191506 0.75002111\n",
      " 0.77222832 0.83049059 0.8194292  0.8289707  0.8125475  0.78776492\n",
      " 0.75162543 0.78426074 0.77974331 0.81326522 0.8141096  0.79473106\n",
      " 0.83336148 0.85898843 0.83901883 0.85628641 0.87486279 0.88782403\n",
      " 0.90095415 0.92793211 0.948535   0.93333615 0.91746179 0.92544119\n",
      " 0.91771511 0.9483239  0.94064004 0.96635143 0.9563033  0.96491598\n",
      " 0.95579667 0.9616229  0.97122669 0.97600341 0.98048168 0.98493934\n",
      " 0.98914194 0.99316967 0.99709016 1.00093615 1.00472879 1.00847757\n",
      " 1.01218569 1.01585114 1.0194701  1.02303827]\n",
      "14 day output [[1.026552]]\n",
      "15 day input [0.92295027 0.9598497  0.98792536 0.98594106 0.92531453 0.92172591\n",
      " 0.96474711 0.97572406 0.99159841 0.96972895 0.97614625 0.96795575\n",
      " 1.         0.99016297 0.99050072 0.96538039 0.98488559 0.97086887\n",
      " 0.94026007 0.87748037 0.83483915 0.85413324 0.77336823 0.77269273\n",
      " 0.88014017 0.84007431 0.89673225 0.85527316 0.83884995 0.74233725\n",
      " 0.82327113 0.78143207 0.6665963  0.7921557  0.64118044 0.68614371\n",
      " 0.66001013 0.65203074 0.58642236 0.56586169 0.66089673 0.65515494\n",
      " 0.70970193 0.66452757 0.69437642 0.69218104 0.63569197 0.65266402\n",
      " 0.63780292 0.7267162  0.71388162 0.74191506 0.75002111 0.77222832\n",
      " 0.83049059 0.8194292  0.8289707  0.8125475  0.78776492 0.75162543\n",
      " 0.78426074 0.77974331 0.81326522 0.8141096  0.79473106 0.83336148\n",
      " 0.85898843 0.83901883 0.85628641 0.87486279 0.88782403 0.90095415\n",
      " 0.92793211 0.948535   0.93333615 0.91746179 0.92544119 0.91771511\n",
      " 0.9483239  0.94064004 0.96635143 0.9563033  0.96491598 0.95579667\n",
      " 0.9616229  0.97122669 0.97600341 0.98048168 0.98493934 0.98914194\n",
      " 0.99316967 0.99709016 1.00093615 1.00472879 1.00847757 1.01218569\n",
      " 1.01585114 1.0194701  1.02303827 1.02655196]\n",
      "15 day output [[1.0300088]]\n",
      "16 day input [0.9598497  0.98792536 0.98594106 0.92531453 0.92172591 0.96474711\n",
      " 0.97572406 0.99159841 0.96972895 0.97614625 0.96795575 1.\n",
      " 0.99016297 0.99050072 0.96538039 0.98488559 0.97086887 0.94026007\n",
      " 0.87748037 0.83483915 0.85413324 0.77336823 0.77269273 0.88014017\n",
      " 0.84007431 0.89673225 0.85527316 0.83884995 0.74233725 0.82327113\n",
      " 0.78143207 0.6665963  0.7921557  0.64118044 0.68614371 0.66001013\n",
      " 0.65203074 0.58642236 0.56586169 0.66089673 0.65515494 0.70970193\n",
      " 0.66452757 0.69437642 0.69218104 0.63569197 0.65266402 0.63780292\n",
      " 0.7267162  0.71388162 0.74191506 0.75002111 0.77222832 0.83049059\n",
      " 0.8194292  0.8289707  0.8125475  0.78776492 0.75162543 0.78426074\n",
      " 0.77974331 0.81326522 0.8141096  0.79473106 0.83336148 0.85898843\n",
      " 0.83901883 0.85628641 0.87486279 0.88782403 0.90095415 0.92793211\n",
      " 0.948535   0.93333615 0.91746179 0.92544119 0.91771511 0.9483239\n",
      " 0.94064004 0.96635143 0.9563033  0.96491598 0.95579667 0.9616229\n",
      " 0.97122669 0.97600341 0.98048168 0.98493934 0.98914194 0.99316967\n",
      " 0.99709016 1.00093615 1.00472879 1.00847757 1.01218569 1.01585114\n",
      " 1.0194701  1.02303827 1.02655196 1.03000879]\n",
      "16 day output [[1.0334073]]\n",
      "17 day input [0.98792536 0.98594106 0.92531453 0.92172591 0.96474711 0.97572406\n",
      " 0.99159841 0.96972895 0.97614625 0.96795575 1.         0.99016297\n",
      " 0.99050072 0.96538039 0.98488559 0.97086887 0.94026007 0.87748037\n",
      " 0.83483915 0.85413324 0.77336823 0.77269273 0.88014017 0.84007431\n",
      " 0.89673225 0.85527316 0.83884995 0.74233725 0.82327113 0.78143207\n",
      " 0.6665963  0.7921557  0.64118044 0.68614371 0.66001013 0.65203074\n",
      " 0.58642236 0.56586169 0.66089673 0.65515494 0.70970193 0.66452757\n",
      " 0.69437642 0.69218104 0.63569197 0.65266402 0.63780292 0.7267162\n",
      " 0.71388162 0.74191506 0.75002111 0.77222832 0.83049059 0.8194292\n",
      " 0.8289707  0.8125475  0.78776492 0.75162543 0.78426074 0.77974331\n",
      " 0.81326522 0.8141096  0.79473106 0.83336148 0.85898843 0.83901883\n",
      " 0.85628641 0.87486279 0.88782403 0.90095415 0.92793211 0.948535\n",
      " 0.93333615 0.91746179 0.92544119 0.91771511 0.9483239  0.94064004\n",
      " 0.96635143 0.9563033  0.96491598 0.95579667 0.9616229  0.97122669\n",
      " 0.97600341 0.98048168 0.98493934 0.98914194 0.99316967 0.99709016\n",
      " 1.00093615 1.00472879 1.00847757 1.01218569 1.01585114 1.0194701\n",
      " 1.02303827 1.02655196 1.03000879 1.03340733]\n",
      "17 day output [[1.0367467]]\n",
      "18 day input [0.98594106 0.92531453 0.92172591 0.96474711 0.97572406 0.99159841\n",
      " 0.96972895 0.97614625 0.96795575 1.         0.99016297 0.99050072\n",
      " 0.96538039 0.98488559 0.97086887 0.94026007 0.87748037 0.83483915\n",
      " 0.85413324 0.77336823 0.77269273 0.88014017 0.84007431 0.89673225\n",
      " 0.85527316 0.83884995 0.74233725 0.82327113 0.78143207 0.6665963\n",
      " 0.7921557  0.64118044 0.68614371 0.66001013 0.65203074 0.58642236\n",
      " 0.56586169 0.66089673 0.65515494 0.70970193 0.66452757 0.69437642\n",
      " 0.69218104 0.63569197 0.65266402 0.63780292 0.7267162  0.71388162\n",
      " 0.74191506 0.75002111 0.77222832 0.83049059 0.8194292  0.8289707\n",
      " 0.8125475  0.78776492 0.75162543 0.78426074 0.77974331 0.81326522\n",
      " 0.8141096  0.79473106 0.83336148 0.85898843 0.83901883 0.85628641\n",
      " 0.87486279 0.88782403 0.90095415 0.92793211 0.948535   0.93333615\n",
      " 0.91746179 0.92544119 0.91771511 0.9483239  0.94064004 0.96635143\n",
      " 0.9563033  0.96491598 0.95579667 0.9616229  0.97122669 0.97600341\n",
      " 0.98048168 0.98493934 0.98914194 0.99316967 0.99709016 1.00093615\n",
      " 1.00472879 1.00847757 1.01218569 1.01585114 1.0194701  1.02303827\n",
      " 1.02655196 1.03000879 1.03340733 1.03674674]\n",
      "18 day output [[1.0400271]]\n",
      "19 day input [0.92531453 0.92172591 0.96474711 0.97572406 0.99159841 0.96972895\n",
      " 0.97614625 0.96795575 1.         0.99016297 0.99050072 0.96538039\n",
      " 0.98488559 0.97086887 0.94026007 0.87748037 0.83483915 0.85413324\n",
      " 0.77336823 0.77269273 0.88014017 0.84007431 0.89673225 0.85527316\n",
      " 0.83884995 0.74233725 0.82327113 0.78143207 0.6665963  0.7921557\n",
      " 0.64118044 0.68614371 0.66001013 0.65203074 0.58642236 0.56586169\n",
      " 0.66089673 0.65515494 0.70970193 0.66452757 0.69437642 0.69218104\n",
      " 0.63569197 0.65266402 0.63780292 0.7267162  0.71388162 0.74191506\n",
      " 0.75002111 0.77222832 0.83049059 0.8194292  0.8289707  0.8125475\n",
      " 0.78776492 0.75162543 0.78426074 0.77974331 0.81326522 0.8141096\n",
      " 0.79473106 0.83336148 0.85898843 0.83901883 0.85628641 0.87486279\n",
      " 0.88782403 0.90095415 0.92793211 0.948535   0.93333615 0.91746179\n",
      " 0.92544119 0.91771511 0.9483239  0.94064004 0.96635143 0.9563033\n",
      " 0.96491598 0.95579667 0.9616229  0.97122669 0.97600341 0.98048168\n",
      " 0.98493934 0.98914194 0.99316967 0.99709016 1.00093615 1.00472879\n",
      " 1.00847757 1.01218569 1.01585114 1.0194701  1.02303827 1.02655196\n",
      " 1.03000879 1.03340733 1.03674674 1.04002714]\n",
      "19 day output [[1.0432492]]\n",
      "20 day input [0.92172591 0.96474711 0.97572406 0.99159841 0.96972895 0.97614625\n",
      " 0.96795575 1.         0.99016297 0.99050072 0.96538039 0.98488559\n",
      " 0.97086887 0.94026007 0.87748037 0.83483915 0.85413324 0.77336823\n",
      " 0.77269273 0.88014017 0.84007431 0.89673225 0.85527316 0.83884995\n",
      " 0.74233725 0.82327113 0.78143207 0.6665963  0.7921557  0.64118044\n",
      " 0.68614371 0.66001013 0.65203074 0.58642236 0.56586169 0.66089673\n",
      " 0.65515494 0.70970193 0.66452757 0.69437642 0.69218104 0.63569197\n",
      " 0.65266402 0.63780292 0.7267162  0.71388162 0.74191506 0.75002111\n",
      " 0.77222832 0.83049059 0.8194292  0.8289707  0.8125475  0.78776492\n",
      " 0.75162543 0.78426074 0.77974331 0.81326522 0.8141096  0.79473106\n",
      " 0.83336148 0.85898843 0.83901883 0.85628641 0.87486279 0.88782403\n",
      " 0.90095415 0.92793211 0.948535   0.93333615 0.91746179 0.92544119\n",
      " 0.91771511 0.9483239  0.94064004 0.96635143 0.9563033  0.96491598\n",
      " 0.95579667 0.9616229  0.97122669 0.97600341 0.98048168 0.98493934\n",
      " 0.98914194 0.99316967 0.99709016 1.00093615 1.00472879 1.00847757\n",
      " 1.01218569 1.01585114 1.0194701  1.02303827 1.02655196 1.03000879\n",
      " 1.03340733 1.03674674 1.04002714 1.04324925]\n",
      "20 day output [[1.0464125]]\n",
      "21 day input [0.96474711 0.97572406 0.99159841 0.96972895 0.97614625 0.96795575\n",
      " 1.         0.99016297 0.99050072 0.96538039 0.98488559 0.97086887\n",
      " 0.94026007 0.87748037 0.83483915 0.85413324 0.77336823 0.77269273\n",
      " 0.88014017 0.84007431 0.89673225 0.85527316 0.83884995 0.74233725\n",
      " 0.82327113 0.78143207 0.6665963  0.7921557  0.64118044 0.68614371\n",
      " 0.66001013 0.65203074 0.58642236 0.56586169 0.66089673 0.65515494\n",
      " 0.70970193 0.66452757 0.69437642 0.69218104 0.63569197 0.65266402\n",
      " 0.63780292 0.7267162  0.71388162 0.74191506 0.75002111 0.77222832\n",
      " 0.83049059 0.8194292  0.8289707  0.8125475  0.78776492 0.75162543\n",
      " 0.78426074 0.77974331 0.81326522 0.8141096  0.79473106 0.83336148\n",
      " 0.85898843 0.83901883 0.85628641 0.87486279 0.88782403 0.90095415\n",
      " 0.92793211 0.948535   0.93333615 0.91746179 0.92544119 0.91771511\n",
      " 0.9483239  0.94064004 0.96635143 0.9563033  0.96491598 0.95579667\n",
      " 0.9616229  0.97122669 0.97600341 0.98048168 0.98493934 0.98914194\n",
      " 0.99316967 0.99709016 1.00093615 1.00472879 1.00847757 1.01218569\n",
      " 1.01585114 1.0194701  1.02303827 1.02655196 1.03000879 1.03340733\n",
      " 1.03674674 1.04002714 1.04324925 1.04641247]\n",
      "21 day output [[1.0495174]]\n",
      "22 day input [0.97572406 0.99159841 0.96972895 0.97614625 0.96795575 1.\n",
      " 0.99016297 0.99050072 0.96538039 0.98488559 0.97086887 0.94026007\n",
      " 0.87748037 0.83483915 0.85413324 0.77336823 0.77269273 0.88014017\n",
      " 0.84007431 0.89673225 0.85527316 0.83884995 0.74233725 0.82327113\n",
      " 0.78143207 0.6665963  0.7921557  0.64118044 0.68614371 0.66001013\n",
      " 0.65203074 0.58642236 0.56586169 0.66089673 0.65515494 0.70970193\n",
      " 0.66452757 0.69437642 0.69218104 0.63569197 0.65266402 0.63780292\n",
      " 0.7267162  0.71388162 0.74191506 0.75002111 0.77222832 0.83049059\n",
      " 0.8194292  0.8289707  0.8125475  0.78776492 0.75162543 0.78426074\n",
      " 0.77974331 0.81326522 0.8141096  0.79473106 0.83336148 0.85898843\n",
      " 0.83901883 0.85628641 0.87486279 0.88782403 0.90095415 0.92793211\n",
      " 0.948535   0.93333615 0.91746179 0.92544119 0.91771511 0.9483239\n",
      " 0.94064004 0.96635143 0.9563033  0.96491598 0.95579667 0.9616229\n",
      " 0.97122669 0.97600341 0.98048168 0.98493934 0.98914194 0.99316967\n",
      " 0.99709016 1.00093615 1.00472879 1.00847757 1.01218569 1.01585114\n",
      " 1.0194701  1.02303827 1.02655196 1.03000879 1.03340733 1.03674674\n",
      " 1.04002714 1.04324925 1.04641247 1.04951739]\n",
      "22 day output [[1.0525655]]\n",
      "23 day input [0.99159841 0.96972895 0.97614625 0.96795575 1.         0.99016297\n",
      " 0.99050072 0.96538039 0.98488559 0.97086887 0.94026007 0.87748037\n",
      " 0.83483915 0.85413324 0.77336823 0.77269273 0.88014017 0.84007431\n",
      " 0.89673225 0.85527316 0.83884995 0.74233725 0.82327113 0.78143207\n",
      " 0.6665963  0.7921557  0.64118044 0.68614371 0.66001013 0.65203074\n",
      " 0.58642236 0.56586169 0.66089673 0.65515494 0.70970193 0.66452757\n",
      " 0.69437642 0.69218104 0.63569197 0.65266402 0.63780292 0.7267162\n",
      " 0.71388162 0.74191506 0.75002111 0.77222832 0.83049059 0.8194292\n",
      " 0.8289707  0.8125475  0.78776492 0.75162543 0.78426074 0.77974331\n",
      " 0.81326522 0.8141096  0.79473106 0.83336148 0.85898843 0.83901883\n",
      " 0.85628641 0.87486279 0.88782403 0.90095415 0.92793211 0.948535\n",
      " 0.93333615 0.91746179 0.92544119 0.91771511 0.9483239  0.94064004\n",
      " 0.96635143 0.9563033  0.96491598 0.95579667 0.9616229  0.97122669\n",
      " 0.97600341 0.98048168 0.98493934 0.98914194 0.99316967 0.99709016\n",
      " 1.00093615 1.00472879 1.00847757 1.01218569 1.01585114 1.0194701\n",
      " 1.02303827 1.02655196 1.03000879 1.03340733 1.03674674 1.04002714\n",
      " 1.04324925 1.04641247 1.04951739 1.05256546]\n",
      "23 day output [[1.0555569]]\n",
      "24 day input [0.96972895 0.97614625 0.96795575 1.         0.99016297 0.99050072\n",
      " 0.96538039 0.98488559 0.97086887 0.94026007 0.87748037 0.83483915\n",
      " 0.85413324 0.77336823 0.77269273 0.88014017 0.84007431 0.89673225\n",
      " 0.85527316 0.83884995 0.74233725 0.82327113 0.78143207 0.6665963\n",
      " 0.7921557  0.64118044 0.68614371 0.66001013 0.65203074 0.58642236\n",
      " 0.56586169 0.66089673 0.65515494 0.70970193 0.66452757 0.69437642\n",
      " 0.69218104 0.63569197 0.65266402 0.63780292 0.7267162  0.71388162\n",
      " 0.74191506 0.75002111 0.77222832 0.83049059 0.8194292  0.8289707\n",
      " 0.8125475  0.78776492 0.75162543 0.78426074 0.77974331 0.81326522\n",
      " 0.8141096  0.79473106 0.83336148 0.85898843 0.83901883 0.85628641\n",
      " 0.87486279 0.88782403 0.90095415 0.92793211 0.948535   0.93333615\n",
      " 0.91746179 0.92544119 0.91771511 0.9483239  0.94064004 0.96635143\n",
      " 0.9563033  0.96491598 0.95579667 0.9616229  0.97122669 0.97600341\n",
      " 0.98048168 0.98493934 0.98914194 0.99316967 0.99709016 1.00093615\n",
      " 1.00472879 1.00847757 1.01218569 1.01585114 1.0194701  1.02303827\n",
      " 1.02655196 1.03000879 1.03340733 1.03674674 1.04002714 1.04324925\n",
      " 1.04641247 1.04951739 1.05256546 1.05555689]\n",
      "24 day output [[1.0584913]]\n",
      "25 day input [0.97614625 0.96795575 1.         0.99016297 0.99050072 0.96538039\n",
      " 0.98488559 0.97086887 0.94026007 0.87748037 0.83483915 0.85413324\n",
      " 0.77336823 0.77269273 0.88014017 0.84007431 0.89673225 0.85527316\n",
      " 0.83884995 0.74233725 0.82327113 0.78143207 0.6665963  0.7921557\n",
      " 0.64118044 0.68614371 0.66001013 0.65203074 0.58642236 0.56586169\n",
      " 0.66089673 0.65515494 0.70970193 0.66452757 0.69437642 0.69218104\n",
      " 0.63569197 0.65266402 0.63780292 0.7267162  0.71388162 0.74191506\n",
      " 0.75002111 0.77222832 0.83049059 0.8194292  0.8289707  0.8125475\n",
      " 0.78776492 0.75162543 0.78426074 0.77974331 0.81326522 0.8141096\n",
      " 0.79473106 0.83336148 0.85898843 0.83901883 0.85628641 0.87486279\n",
      " 0.88782403 0.90095415 0.92793211 0.948535   0.93333615 0.91746179\n",
      " 0.92544119 0.91771511 0.9483239  0.94064004 0.96635143 0.9563033\n",
      " 0.96491598 0.95579667 0.9616229  0.97122669 0.97600341 0.98048168\n",
      " 0.98493934 0.98914194 0.99316967 0.99709016 1.00093615 1.00472879\n",
      " 1.00847757 1.01218569 1.01585114 1.0194701  1.02303827 1.02655196\n",
      " 1.03000879 1.03340733 1.03674674 1.04002714 1.04324925 1.04641247\n",
      " 1.04951739 1.05256546 1.05555689 1.05849135]\n",
      "25 day output [[1.0613697]]\n",
      "26 day input [0.96795575 1.         0.99016297 0.99050072 0.96538039 0.98488559\n",
      " 0.97086887 0.94026007 0.87748037 0.83483915 0.85413324 0.77336823\n",
      " 0.77269273 0.88014017 0.84007431 0.89673225 0.85527316 0.83884995\n",
      " 0.74233725 0.82327113 0.78143207 0.6665963  0.7921557  0.64118044\n",
      " 0.68614371 0.66001013 0.65203074 0.58642236 0.56586169 0.66089673\n",
      " 0.65515494 0.70970193 0.66452757 0.69437642 0.69218104 0.63569197\n",
      " 0.65266402 0.63780292 0.7267162  0.71388162 0.74191506 0.75002111\n",
      " 0.77222832 0.83049059 0.8194292  0.8289707  0.8125475  0.78776492\n",
      " 0.75162543 0.78426074 0.77974331 0.81326522 0.8141096  0.79473106\n",
      " 0.83336148 0.85898843 0.83901883 0.85628641 0.87486279 0.88782403\n",
      " 0.90095415 0.92793211 0.948535   0.93333615 0.91746179 0.92544119\n",
      " 0.91771511 0.9483239  0.94064004 0.96635143 0.9563033  0.96491598\n",
      " 0.95579667 0.9616229  0.97122669 0.97600341 0.98048168 0.98493934\n",
      " 0.98914194 0.99316967 0.99709016 1.00093615 1.00472879 1.00847757\n",
      " 1.01218569 1.01585114 1.0194701  1.02303827 1.02655196 1.03000879\n",
      " 1.03340733 1.03674674 1.04002714 1.04324925 1.04641247 1.04951739\n",
      " 1.05256546 1.05555689 1.05849135 1.06136966]\n",
      "26 day output [[1.064193]]\n",
      "27 day input [1.         0.99016297 0.99050072 0.96538039 0.98488559 0.97086887\n",
      " 0.94026007 0.87748037 0.83483915 0.85413324 0.77336823 0.77269273\n",
      " 0.88014017 0.84007431 0.89673225 0.85527316 0.83884995 0.74233725\n",
      " 0.82327113 0.78143207 0.6665963  0.7921557  0.64118044 0.68614371\n",
      " 0.66001013 0.65203074 0.58642236 0.56586169 0.66089673 0.65515494\n",
      " 0.70970193 0.66452757 0.69437642 0.69218104 0.63569197 0.65266402\n",
      " 0.63780292 0.7267162  0.71388162 0.74191506 0.75002111 0.77222832\n",
      " 0.83049059 0.8194292  0.8289707  0.8125475  0.78776492 0.75162543\n",
      " 0.78426074 0.77974331 0.81326522 0.8141096  0.79473106 0.83336148\n",
      " 0.85898843 0.83901883 0.85628641 0.87486279 0.88782403 0.90095415\n",
      " 0.92793211 0.948535   0.93333615 0.91746179 0.92544119 0.91771511\n",
      " 0.9483239  0.94064004 0.96635143 0.9563033  0.96491598 0.95579667\n",
      " 0.9616229  0.97122669 0.97600341 0.98048168 0.98493934 0.98914194\n",
      " 0.99316967 0.99709016 1.00093615 1.00472879 1.00847757 1.01218569\n",
      " 1.01585114 1.0194701  1.02303827 1.02655196 1.03000879 1.03340733\n",
      " 1.03674674 1.04002714 1.04324925 1.04641247 1.04951739 1.05256546\n",
      " 1.05555689 1.05849135 1.06136966 1.06419301]\n",
      "27 day output [[1.06696]]\n",
      "28 day input [0.99016297 0.99050072 0.96538039 0.98488559 0.97086887 0.94026007\n",
      " 0.87748037 0.83483915 0.85413324 0.77336823 0.77269273 0.88014017\n",
      " 0.84007431 0.89673225 0.85527316 0.83884995 0.74233725 0.82327113\n",
      " 0.78143207 0.6665963  0.7921557  0.64118044 0.68614371 0.66001013\n",
      " 0.65203074 0.58642236 0.56586169 0.66089673 0.65515494 0.70970193\n",
      " 0.66452757 0.69437642 0.69218104 0.63569197 0.65266402 0.63780292\n",
      " 0.7267162  0.71388162 0.74191506 0.75002111 0.77222832 0.83049059\n",
      " 0.8194292  0.8289707  0.8125475  0.78776492 0.75162543 0.78426074\n",
      " 0.77974331 0.81326522 0.8141096  0.79473106 0.83336148 0.85898843\n",
      " 0.83901883 0.85628641 0.87486279 0.88782403 0.90095415 0.92793211\n",
      " 0.948535   0.93333615 0.91746179 0.92544119 0.91771511 0.9483239\n",
      " 0.94064004 0.96635143 0.9563033  0.96491598 0.95579667 0.9616229\n",
      " 0.97122669 0.97600341 0.98048168 0.98493934 0.98914194 0.99316967\n",
      " 0.99709016 1.00093615 1.00472879 1.00847757 1.01218569 1.01585114\n",
      " 1.0194701  1.02303827 1.02655196 1.03000879 1.03340733 1.03674674\n",
      " 1.04002714 1.04324925 1.04641247 1.04951739 1.05256546 1.05555689\n",
      " 1.05849135 1.06136966 1.06419301 1.06695998]\n",
      "28 day output [[1.0696722]]\n",
      "29 day input [0.99050072 0.96538039 0.98488559 0.97086887 0.94026007 0.87748037\n",
      " 0.83483915 0.85413324 0.77336823 0.77269273 0.88014017 0.84007431\n",
      " 0.89673225 0.85527316 0.83884995 0.74233725 0.82327113 0.78143207\n",
      " 0.6665963  0.7921557  0.64118044 0.68614371 0.66001013 0.65203074\n",
      " 0.58642236 0.56586169 0.66089673 0.65515494 0.70970193 0.66452757\n",
      " 0.69437642 0.69218104 0.63569197 0.65266402 0.63780292 0.7267162\n",
      " 0.71388162 0.74191506 0.75002111 0.77222832 0.83049059 0.8194292\n",
      " 0.8289707  0.8125475  0.78776492 0.75162543 0.78426074 0.77974331\n",
      " 0.81326522 0.8141096  0.79473106 0.83336148 0.85898843 0.83901883\n",
      " 0.85628641 0.87486279 0.88782403 0.90095415 0.92793211 0.948535\n",
      " 0.93333615 0.91746179 0.92544119 0.91771511 0.9483239  0.94064004\n",
      " 0.96635143 0.9563033  0.96491598 0.95579667 0.9616229  0.97122669\n",
      " 0.97600341 0.98048168 0.98493934 0.98914194 0.99316967 0.99709016\n",
      " 1.00093615 1.00472879 1.00847757 1.01218569 1.01585114 1.0194701\n",
      " 1.02303827 1.02655196 1.03000879 1.03340733 1.03674674 1.04002714\n",
      " 1.04324925 1.04641247 1.04951739 1.05256546 1.05555689 1.05849135\n",
      " 1.06136966 1.06419301 1.06695998 1.06967223]\n",
      "29 day output [[1.0723302]]\n",
      "\n",
      "\n",
      " 30 day's output are : [[0.971226692199707], [0.9760034084320068], [0.9804816842079163], [0.9849393367767334], [0.9891419410705566], [0.9931696653366089], [0.9970901608467102], [1.0009361505508423], [1.0047287940979004], [1.0084775686264038], [1.0121856927871704], [1.0158511400222778], [1.0194700956344604], [1.0230382680892944], [1.0265519618988037], [1.0300087928771973], [1.0334073305130005], [1.0367467403411865], [1.040027141571045], [1.043249249458313], [1.046412467956543], [1.0495173931121826], [1.0525654554367065], [1.0555568933486938], [1.0584913492202759], [1.0613696575164795], [1.0641930103302002], [1.0669599771499634], [1.0696722269058228], [1.0723302364349365]]\n"
     ]
    }
   ],
   "source": [
    "lst_output=[]\n",
    "i=0\n",
    "while(i<30):\n",
    "    \n",
    "    if(len(temp_input)>100):\n",
    "        #print(temp_input)\n",
    "        x_input=np.array(temp_input[1:])\n",
    "        print(\"{} day input {}\".format(i,x_input))\n",
    "        x_input=x_input.reshape(1,-1)\n",
    "        x_input = x_input.reshape((1, time_step, 1))\n",
    "        #print(x_input)\n",
    "        yhat = model.predict(x_input, verbose=0)\n",
    "        print(\"{} day output {}\".format(i,yhat))\n",
    "        temp_input.extend(yhat[0].tolist())\n",
    "        temp_input=temp_input[1:]\n",
    "        #print(temp_input)\n",
    "        lst_output.extend(yhat.tolist())\n",
    "        i=i+1\n",
    "    else:\n",
    "        x_input = x_input.reshape((1, time_step,1))\n",
    "        yhat = model.predict(x_input, verbose=0)\n",
    "        print(yhat[0])\n",
    "        temp_input.extend(yhat[0].tolist())\n",
    "        print(len(temp_input))\n",
    "        lst_output.extend(yhat.tolist())\n",
    "        i=i+1\n",
    "    \n",
    "\n",
    "print(\"\\n\\n 30 day's output are :\",lst_output)"
   ]
  },
  {
   "cell_type": "code",
   "execution_count": 88,
   "metadata": {},
   "outputs": [],
   "source": [
    "day_new = np.arange(1,101)\n",
    "day_predict = np.arange(101, 131)"
   ]
  },
  {
   "cell_type": "code",
   "execution_count": 89,
   "metadata": {},
   "outputs": [
    {
     "data": {
      "text/plain": [
       "[<matplotlib.lines.Line2D at 0x7f5ba7a474d0>]"
      ]
     },
     "execution_count": 89,
     "metadata": {},
     "output_type": "execute_result"
    },
    {
     "data": {
      "image/png": "[encoded data removed]",
      "text/plain": [
       "<Figure size 432x288 with 1 Axes>"
      ]
     },
     "metadata": {
      "needs_background": "light"
     },
     "output_type": "display_data"
    }
   ],
   "source": [
    "plt.plot(day_new, scaler.inverse_transform(data[1157:]))\n",
    "plt.plot(day_predict, scaler.inverse_transform(lst_output))"
   ]
  },
  {
   "cell_type": "code",
   "execution_count": 90,
   "metadata": {},
   "outputs": [
    {
     "data": {
      "text/plain": [
       "1257"
      ]
     },
     "execution_count": 90,
     "metadata": {},
     "output_type": "execute_result"
    }
   ],
   "source": [
    "len(data)"
   ]
  },
  {
   "cell_type": "code",
   "execution_count": 91,
   "metadata": {},
   "outputs": [
    {
     "data": {
      "text/plain": [
       "[<matplotlib.lines.Line2D at 0x7f5badd69b50>]"
      ]
     },
     "execution_count": 91,
     "metadata": {},
     "output_type": "execute_result"
    },
    {
     "data": {
      "image/png": "[encoded data removed]",
      "text/plain": [
       "<Figure size 432x288 with 1 Axes>"
      ]
     },
     "metadata": {
      "needs_background": "light"
     },
     "output_type": "display_data"
    }
   ],
   "source": [
    "#adding new data\n",
    "new_add = data.tolist()\n",
    "new_add.extend(lst_output)\n",
    "plt.plot(new_add[1200:])"
   ]
  },
  {
   "cell_type": "code",
   "execution_count": 92,
   "metadata": {},
   "outputs": [
    {
     "data": {
      "text/plain": [
       "[<matplotlib.lines.Line2D at 0x7f5ba78a9110>]"
      ]
     },
     "execution_count": 92,
     "metadata": {},
     "output_type": "execute_result"
    },
    {
     "data": {
      "image/png": "[encoded data removed]",
      "text/plain": [
       "<Figure size 432x288 with 1 Axes>"
      ]
     },
     "metadata": {
      "needs_background": "light"
     },
     "output_type": "display_data"
    }
   ],
   "source": [
    "#full data(with 30 day parediction)\n",
    "plt.plot(scaler.inverse_transform(new_add))"
   ]
  },
  {
   "cell_type": "code",
   "execution_count": null,
   "metadata": {},
   "outputs": [],
   "source": []
  },
  {
   "cell_type": "code",
   "execution_count": null,
   "metadata": {},
   "outputs": [],
   "source": []
  }
 ],
 "metadata": {
  "kernelspec": {
   "display_name": "Python 3",
   "language": "python",
   "name": "python3"
  },
  "language_info": {
   "codemirror_mode": {
    "name": "ipython",
    "version": 3
   },
   "file_extension": ".py",
   "mimetype": "text/x-python",
   "name": "python",
   "nbconvert_exporter": "python",
   "pygments_lexer": "ipython3",
   "version": "3.7.5"
  }
 },
 "nbformat": 4,
 "nbformat_minor": 2
}
